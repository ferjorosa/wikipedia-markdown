{
 "cells": [
  {
   "metadata": {},
   "cell_type": "markdown",
   "source": [
    "# Objective\n",
    "\n",
    "This Jupyter notebook aims to explore the transformation of text from SimpleWikipedia using markdown. We are going to compare several models, both for short and long texts.\n",
    "\n",
    "**For Short Texts (Token Count <= 3,000)**\n",
    "- **Direct Transformation**: If the text contains fewer than 7,000 tokens, it will be transformed directly without segmentation. This approach is straightforward and efficient for shorter texts.\n",
    "\n",
    "**For Long Texts (Token Count > 3,000)**\n",
    "- **Segmented Transformation**: For longer texts exceeding 7,000 tokens, the text will be divided into manageable sections. Each section will be transformed individually, and the results will be combined to form the final output.\n",
    "\n",
    "#### Rationale\n",
    "\n",
    "1. **Model Limitations**: Many models lack the capacity to handle long contexts effectively while maintaining high quality. Segmenting the text helps mitigate this limitation.\n",
    "2. **Information Preservation**: We observed that models often truncate or significantly shorten formatted texts (e.g., reducing 11,000 tokens to 2,300 tokens), leading to substantial information loss. By processing sections individually, we aim to preserve the integrity and completeness of the original content.\n",
    "\n",
    "#### Note on 3,000 Token Limit\n",
    "\n",
    "The maximum output depends on the model. For example Llama models have a maximum of 4k-8k of tokens, GPT-4o of 16k, Deepseek of 8k, etc.\n",
    "\n",
    "The 3,000-token limit is chosen to provide a buffer, ensuring that even if the token count increases after transforming the text into markdown, the output remains within the model's capacity.\n",
    "\n",
    "#### Models\n",
    "\n",
    "We selected several cost-effective models\n",
    "\n",
    "* `meta-llama/llama-3.2-1b-instruct`\n",
    "    * \\$0.01/M input tokens\n",
    "    * \\$0.01/M output tokens\n",
    "* `meta-llama/llama-3.2-3b-instruct`\n",
    "    * \\$0.015/M input tokens\n",
    "    * \\$0.025/M output tokens\n",
    "* `nousresearch/hermes-2-pro-llama-3-8b`\n",
    "    * \\$0.025/M input tokens\n",
    "    * \\$0.04/M output tokens\n",
    "* `mistralai/ministral-8b`\n",
    "    * \\$0.1/M input tokens\n",
    "    * \\$0.1/M output tokens\n",
    "* `mistralai/mistral-nemo-12b`\n",
    "    * \\$0.035/M input tokens\n",
    "    * \\$0.08/M output tokens\n",
    "* `nousresearch/hermes-3-llama-3.1-70b`\n",
    "    * \\$0.12/M input tokens\n",
    "    * \\$0.3/M output tokens\n",
    "* `openai/gpt-4o-mini`\n",
    "    * \\$0.15/M input tokens\n",
    "    * \\$0.6/M output tokens\n",
    "* `deepseek/deepseek-chat`\n",
    "    * \\$0.14/M input tokens\n",
    "    * \\$0.28/M output tokens"
   ],
   "id": "b1782e66c381c64d"
  },
  {
   "metadata": {
    "ExecuteTime": {
     "end_time": "2025-01-06T18:07:09.230175Z",
     "start_time": "2025-01-06T18:07:09.220497Z"
    }
   },
   "cell_type": "code",
   "source": [
    "import yaml\n",
    "import pandas as pd\n",
    "\n",
    "from os import getenv\n",
    "from tqdm import tqdm\n",
    "from dotenv import load_dotenv\n",
    "from transformers import AutoTokenizer\n",
    "from pathlib import Path\n",
    "\n",
    "from src.utils.tokenizer import count_tokens\n",
    "from src.format_articles import (\n",
    "    convert_text_to_markdown,\n",
    "    convert_long_text_to_markdown\n",
    ")\n",
    "\n",
    "def _load_yaml(path):\n",
    "    with open(path) as file:\n",
    "        return yaml.safe_load(file)\n",
    "\n",
    "load_dotenv()\n",
    "tqdm.pandas()\n",
    "huggingface_token = getenv(\"HUGGINGFACE_TOKEN\")\n",
    "\n",
    "base_path = Path(\"..\")"
   ],
   "id": "e5a1b14472c7d7be",
   "outputs": [],
   "execution_count": 22
  },
  {
   "metadata": {},
   "cell_type": "markdown",
   "source": "# 1 - Load data",
   "id": "a7263b6be4c8631b"
  },
  {
   "cell_type": "code",
   "id": "initial_id",
   "metadata": {
    "collapsed": true,
    "ExecuteTime": {
     "end_time": "2025-01-06T18:07:09.954488Z",
     "start_time": "2025-01-06T18:07:09.233521Z"
    }
   },
   "source": "data = pd.read_parquet(base_path / \"data/parsed/articles.parquet\")",
   "outputs": [],
   "execution_count": 23
  },
  {
   "metadata": {},
   "cell_type": "markdown",
   "source": [
    "# 2 - Count tokens\n",
    "\n",
    "We should use the specific tokenizer for each case, but this is just to get an estimation..."
   ],
   "id": "2ddf931413a957b"
  },
  {
   "metadata": {
    "ExecuteTime": {
     "end_time": "2025-01-06T18:08:59.597901Z",
     "start_time": "2025-01-06T18:07:10.011976Z"
    }
   },
   "cell_type": "code",
   "source": [
    "model_hf = \"deepseek-ai/DeepSeek-V3\"\n",
    "\n",
    "# Load the tokenizer using the Hugging Face token for authentication\n",
    "tokenizer = AutoTokenizer.from_pretrained(model_hf, token=huggingface_token)\n",
    "\n",
    "# Apply the function to each row in the 'text' column with a progress bar\n",
    "data['token_count'] = data['text'].progress_apply(lambda text: count_tokens(tokenizer, text))\n",
    "\n",
    "# Print the first row to verify\n",
    "print(f\"Token count: {data['token_count'].sum()}\")"
   ],
   "id": "24073b7f63faad27",
   "outputs": [
    {
     "name": "stderr",
     "output_type": "stream",
     "text": [
      " 68%|██████▊   | 176925/259096 [01:20<00:30, 2667.99it/s]Token indices sequence length is longer than the specified maximum sequence length for this model (182923 > 131072). Running this sequence through the model will result in indexing errors\n",
      "100%|██████████| 259096/259096 [01:49<00:00, 2374.73it/s]"
     ]
    },
    {
     "name": "stdout",
     "output_type": "stream",
     "text": [
      "Token count: 86175214\n"
     ]
    },
    {
     "name": "stderr",
     "output_type": "stream",
     "text": [
      "\n"
     ]
    }
   ],
   "execution_count": 24
  },
  {
   "metadata": {},
   "cell_type": "markdown",
   "source": "### Short article",
   "id": "bc44aae42bd5c67d"
  },
  {
   "metadata": {
    "ExecuteTime": {
     "end_time": "2025-01-06T18:08:59.744058Z",
     "start_time": "2025-01-06T18:08:59.734407Z"
    }
   },
   "cell_type": "code",
   "source": [
    "short_article = data[data[\"id\"] == 13].iloc[0]\n",
    "\n",
    "short_article_directory = Path(\"./short\")\n",
    "short_article_path = short_article_directory / \"base.md\"\n",
    "short_article_directory.mkdir(parents=True, exist_ok=True)\n",
    "short_article_path.write_text(short_article[\"text\"], encoding=\"utf-8\")\n",
    "\n",
    "print(short_article[\"text\"])\n",
    "print(\"\\n================\\n\")\n",
    "print(short_article[\"token_count\"])"
   ],
   "id": "d94d93ae84af7de4",
   "outputs": [
    {
     "name": "stdout",
     "output_type": "stream",
     "text": [
      "= Alan Turing =\n",
      "\n",
      "\n",
      "\n",
      "\n",
      "Alan Mathison Turing OBE FRS (London, 23 June 1912 – Wilmslow, Cheshire, 7 June 1954) was an English mathematician and computer scientist. He was born in Maida Vale, London.\n",
      "\n",
      "== Early life and family ==\n",
      "\n",
      "Alan Mathison Turing was born in Maida Vale, London on 23 June 1912. His father was part of a family of merchants from Scotland. His mother, Ethel Sara, was the daughter of an engineer.\n",
      "\n",
      "=== Education ===\n",
      "\n",
      "Turing went to St. Michael's, a school at 20 Charles Road, St Leonards-on-sea, when he was five years old.\n",
      "\"This is only a foretaste of what is to come, and only the shadow of what is going to be.” – Alan Turing.\n",
      "\n",
      "The Stoney family were once prominent landlords in North Tipperary. His mother Ethel Sara Stoney (1881–1976) was daughter of Edward Waller Stoney (Borrisokane, North Tipperary) and Sarah Crawford (Cartron Abbey, Co. Longford), who were Protestant Anglo-Irish gentry. She was educated in Dublin at Alexandra School and College. On 1 October 1907, she married Julius Mathison Turing, who was Reverend John Robert Turing and Fanny Boyd, in Dublin. Alan Turing was born on 23 June 1912. He would go on to be regarded as one of the greatest figures of the twentieth century.\n",
      "\n",
      "Alan was a brilliant mathematician and cryptographer. He became the founder of modern-day computer science and artificial intelligence. He designed a machine at Bletchley Park to break secret Enigma encrypted messages used by the Nazi German war machine to protect sensitive commercial, diplomatic and military communications during World War 2. This made the single biggest contribution to the Allied victory in the war against Nazi Germany. It possibly saved the lives of an estimated 2 million people, and shortened World War II.\n",
      "\n",
      "In 2013, almost 60 years later, Turing received a posthumous Royal Pardon from Queen Elizabeth II. Today, the “Turing law” grants an automatic pardon to men who died before the law came into force, making it possible for living convicted gay men to seek pardons for offences now no longer on the statute book.\n",
      "\n",
      "Turing died in 1954, after being subjected by a British court to chemical castration. He is known to have ended his life at the age of 41 years, by eating an apple laced with cyanide.\n",
      "\n",
      "== Career ==\n",
      "\n",
      "Turing was one of the people who worked on the first computers. He created the theoretical  Turing machine in 1936. The machine was imaginary, but it included the idea of a computer program.\n",
      "\n",
      "Turing was interested in artificial intelligence. He proposed the Turing test, to say when a machine could be called \"intelligent\". A computer could be said to \"think\" if a human talking with it could not tell it was a machine.\n",
      "\n",
      "During World War II, Turing worked with others to break German ciphers (secret messages). He  worked for the Government Code and Cypher School (GC&amp;CS) at Bletchley Park, Britain's codebreaking centre that produced Ultra intelligence.\n",
      "Using cryptanalysis, he helped to break the codes of the Enigma machine. After that, he worked on other German codes.\n",
      "\n",
      "From 1945 to 1947, Turing worked on the design of the ACE (Automatic Computing Engine) at the National Physical Laboratory. He presented a paper on 19 February 1946. That paper was \"the first detailed design of a stored-program computer\". Although it was possible to build ACE, there were delays in starting the project. In late 1947 he returned to Cambridge for a sabbatical year. While he was at Cambridge, the Pilot ACE was built without him. It ran its first program on 10 May 1950.\n",
      "\n",
      "== Private life ==\n",
      "\n",
      "Turing was a homosexual man. In 1952, he admitted having had sex with a man in England. At that time, homosexual acts were illegal. Turing was convicted. He had to choose between going to jail and taking hormones to lower his sex drive. He decided to take the hormones. After his punishment, he became impotent. He also grew breasts.\n",
      "\n",
      "In May 2012, a private member's bill was put before the House of Lords to grant Turing a statutory pardon. In July 2013, the government supported it. A royal pardon was granted on 24 December 2013.\n",
      "\n",
      "== Death ==\n",
      "\n",
      "In 1954, Turing died from cyanide poisoning. The cyanide came from either an apple which was poisoned with cyanide, or from water that had cyanide in it. The reason for the confusion is that the police never tested the apple for cyanide. It is also suspected that he committed suicide.\n",
      "\n",
      "The treatment forced on him is now believed to be very wrong. It is against medical ethics and international laws of human rights. In August 2009, a petition asking the British Government to apologise to Turing for punishing him for being a homosexual was started. The petition received thousands of signatures. Then Prime Minister, Gordon Brown acknowledged the petition. He called Turing's treatment \"appalling\".\n",
      "\n",
      "== References ==\n",
      "\n",
      "\n",
      "\n",
      "== Other websites ==\n",
      "\n",
      "*Jack Copeland 2012. Alan Turing: The codebreaker who saved 'millions of lives'. BBC News / Technology \n",
      "\n",
      "\n",
      "\n",
      "Category:English computer scientists\n",
      "Category:English LGBT people\n",
      "Category:English mathematicians\n",
      "Category:Gay men\n",
      "Category:LGBT scientists\n",
      "Category:Scientists from London\n",
      "Category:Suicides by poison\n",
      "Category:Suicides in the United Kingdom\n",
      "Category:1912 births\n",
      "Category:1954 deaths\n",
      "Category:Officers of the Order of the British Empire\n",
      "\n",
      "================\n",
      "\n",
      "1192\n"
     ]
    }
   ],
   "execution_count": 25
  },
  {
   "metadata": {},
   "cell_type": "markdown",
   "source": "### Long article",
   "id": "87d4a9ea7384bea0"
  },
  {
   "metadata": {
    "ExecuteTime": {
     "end_time": "2025-01-06T18:08:59.753722Z",
     "start_time": "2025-01-06T18:08:59.748988Z"
    }
   },
   "cell_type": "code",
   "source": [
    "long_article = data[data[\"id\"] == 3077].iloc[0]\n",
    "\n",
    "long_article_directory = Path(\"./long\")\n",
    "long_article_path = long_article_directory / \"base.md\"\n",
    "long_article_directory.mkdir(parents=True, exist_ok=True)\n",
    "long_article_path.write_text(long_article[\"text\"], encoding=\"utf-8\")\n",
    "\n",
    "print(long_article[\"text\"])\n",
    "print(\"\\n================\\n\")\n",
    "print(long_article[\"token_count\"])"
   ],
   "id": "1130531dc6a67c04",
   "outputs": [
    {
     "name": "stdout",
     "output_type": "stream",
     "text": [
      "= Manchester United F.C. =\n",
      "\n",
      "\n",
      " \n",
      "\n",
      "Manchester United Football Club (F.C.) is a professional football club. It is based in Old Trafford, Greater Manchester, England. It plays in the Premier League, the highest level of English football. Its nickname is \"the Red Devils\". The club started as Newton Heath LYR Football Club, in 1878. It changed its name to Manchester United in 1902. It moved to its current stadium, Old Trafford, in 1910.\n",
      "\n",
      "Manchester United has won more trophies than any other club in English football other than Liverpool FC. It has won 20 League titles, 13 FA Cups, six League Cups and 21 FA Community Shields. United has also won three UEFA Champions Leagues, one UEFA Europa League, one UEFA Cup Winners' Cup, one UEFA Super Cup, one Intercontinental Cup and one FIFA Club World Cup. In 1998–99, the club became the first club in the history of English football to win the continental European treble. It won the UEFA Europa League in 2016–17 and became one of five clubs to win all three top UEFA club competitions.\n",
      "\n",
      "Matt Busby led the club to lots of success by using youth players until the Munich air disaster in 1958. The Munich air disaster is a famous plane crash in the club's history. Eight Manchester United players died as well as other staff. In 1968, the manager Matt Busby guided Manchester United to the European Cup. It became the first English football club to win this trophy. \n",
      "\n",
      "Sir Alex Ferguson is one of the most famous managers of the club. He won 38 trophies as manager. This includes 13 Premier League titles, five FA Cups and two UEFA Champions Leagues, between 1986 and 2013. He retired in 2013.\n",
      "\n",
      "Manchester United was floated on the London Stock Exchange in 1991. Malcolm Glazer bought the club in May 2005. This valued the club at almost £800 million. After this, the company became private again. In August 2012, it went public once more. It made an initial public offering on the New York Stock Exchange. Manchester United was the highest-earning football club in the world in 2016–17. It had an annual revenue of €676.3 million. It was the most valuable football club in the world in 2024. Its value was £4.96 billion ($6.2 billion). As of June 2015, it is also the world's most valuable football brand. Its estimated value is $1.2 billion.  \n",
      "\n",
      "Manchester United has the most fans in the world. It has big rivalries with Liverpool F.C., Manchester City, Arsenal and Leeds United.\n",
      "\n",
      "== History ==\n",
      "\n",
      "\n",
      "=== Early years (1878–1945) ===\n",
      "\n",
      "Manchester United was started in 1878. It was called Newton Heath LYR Football Club. The Carriage and Wagon department of the Lancashire and Yorkshire Railway (LYR) depot started the club at Newton Heath. All of the team worked at Lancashire and Yorkshire Railway depot. The team first played against other departments and against other railway companies. On 20 November 1880, it played in their first official match. The players wore the colours of the railway company: green and gold. They lost 6–0 against the reserve team of Bolton Wanderers. In 1888, the club became a founding member of The Combination, a regional football league. The league stopped after only one year. Newton Heath joined the new Football Alliance. This ran for three seasons. It was then combined with The Football League. This meant the club started the 1892–93 season in the First Division. By this time it was not a part of the railway company. It did not use \"LYR\" in its name anymore. After two seasons, the club was relegated to the Second Division.\n",
      "\n",
      "In January 1902 the club had debts of £2,670, equivalent to (the same as) £ in . The club got a winding-up order. Captain Harry Stafford found four local businessmen, including John Henry Davies who became club president. Each businessman invested £500. They were then allowed to help run the club. On 24 April 1902, they changed the name of the club to Manchester United F.C.. Ernest Mangnall became the manager in 1903. The team finished the Second Division in second position in 1906. It went back to the First Division. It won the league in 1908. This was the club's first league title. The season after, the club won the first ever Charity Shield. That season, the club also won its first FA Cup title. Manchester United won the First Division for the second time in 1911. At the end of the next season, Mangnall left the club to join Manchester City.\n",
      "\n",
      "In 1922, three years after football started again after the First World War, the club was relegated to the Second Division. It stayed in this division until 1925. It went back to the first division, but was relegated again in 1931. Manchester United became a yo-yo club. In 1934 it had its worst ever position in the league. It was 20th place in the Second Division. The main benefactor, John Henry Davies, died in October 1927. After this the club's finances got worse. Manchester United were close to bankruptcy, but James W. Gibson invested £2,000 in December 1931. He took control of the club. In the 1938–39 season, the last year of football before the Second World War, the club was 14th in the First Division.\n",
      "\n",
      "=== Busby years (1945–1969) ===\n",
      "\n",
      "\n",
      "In October 1945, football started again. Matt Busby became the manager. He wanted a lot of control when choosing payers, player transfers and training sessions. Busby and his team finished second in 1947, 1948 and 1949. They won the FA Cup in 1948. In 1952, the club won the First Division. This was the first time that it won the league for 41 years. It also won league titles in 1956 and 1957. Matt Busby used the youth team to get new players, and this was very successful. At that time, the team had average age of 22. The media gave them the nickname \"the Busby Babes\". This was because Busby believed in his young players. In 1957, Manchester United became the first English team to play in the European Cup. The Football League did not want the club to play, but it did not stop them. The year before, the Football League had stopped Chelsea from playing in that cup. United lost in the semi-final to Real Madrid. However, earlier in the tournament the team won 10–0 victory against Belgian champions Anderlecht. This is still the club's biggest ever victory.\n",
      "\n",
      "The season after, the Munich air disaster happened. It was after the club won against Red Star Belgrade in the European Cup quarter-final. The plane carrying the Manchester United players, officials and journalists crashed while trying to take off after it stopped for fuel in Munich, Germany. 23 people died in the Munich air disaster of 6 February 1958. This included eight players: Geoff Bent, Roger Byrne, Eddie Colman, Duncan Edwards, Mark Jones, David Pegg, Tommy Taylor and Billy Whelan. The crash also injured many other people.\n",
      "\n",
      "The assistant manager, Jimmy Murphy, became the manager while Busby recovered from his injuries. The club still got to the FA Cup final, but it lost to Bolton Wanderers. In recognition of the team's tragedy, UEFA invited the club to play in the 1958–59 European Cup. The Football Association agreed, but the Football League said that the club should not enter the competition, because it had not qualified. \n",
      "\n",
      "Busby built the team again in the 1960s. He signed players such as Denis Law and Pat Crerand. They played well with the next generation of young players, including George Best. The club won the FA Cup in 1963. The season after, it finished second in the league. It won the league in 1965 and 1967. In 1968, Manchester United became the first English (and second British, after Celtic F.C.) club to win the European Cup. It beat Benfica 4–1 in the final. The team had three European Footballers of the Year: Bobby Charlton, Denis Law and George Best. The club then represented Europe in the 1968 Intercontinental Cup against Estudiantes of Argentina. It lost the first match in Buenos Aires, 1–0. It drew 1–1 at Old Trafford three weeks later. This meant Manchester United lost the cup. Busby resigned as manager in 1969. The reserve team coach replaced him. He was former Manchester United player Wilf McGuinness.\n",
      "\n",
      "=== 1969–1986 ===\n",
      "\n",
      "alt=A smiling man with dark hair wearing a white, green and blue tracksuit top over a blue shirt. He is holding a washbag under his right arm.|thumb|Bryan Robson was the captain of Manchester United for 12 years, longer than any other player.\n",
      "The club finished in 8th place in the 1969–70 season. It had a bad start to the 1970–71 season. Busby started to be the temporary manager again. McGuinness went back to be the reserve team coach. In June 1971, Frank O'Farrell became the manager. He stayed less than 18 months. Tommy Docherty became the new manager in December 1972. Docherty helped Manchester United stay in the First Division that season. However, the club relegated to the second division in 1974. Best, Law, and Charlton had left the club by that point. The team won promotion back to the first division theyear after. United played in the FA Cup final in 1976, but Southampton won the match. The club was in the final again in 1977. It beat Liverpool 2–1. Docherty was sacked soon after, because he had had an affair with the club physiotherapist's wife.\n",
      "\n",
      "Dave Sexton became the new manager in the summer of 1977. He signed the famous players Joe Jordan, Gordon McQueen, Gary Bailey, and Ray Wilkins. However, the team did not have great results. It finished in the top two in 1979–80. It lost against Arsenal in the 1979 FA Cup Final. Sexton was sacked in 1981, even though the team won the last seven games when he was the manager. Ron Atkinson replaced him. He broke the British record transfer fee (the money used to buy a player) to sign Bryan Robson from West Bromwich Albion. Under Atkinson, Manchester United won the FA Cup twice in three years – in 1983 and 1985. In 1985–86, the club was favourite to win the league after 13 wins and two draws in its first 15 matches. However, they only finished the season in fourth place. Atkinson was sacked the year after, because the club was already in danger of relegation by November.\n",
      "\n",
      "===\n",
      " Ferguson years (1986–2013) ===\n",
      "\n",
      "Alex Ferguson and his assistant Archie Knox arrived from Aberdeen on the day of Atkinson's left. They guided the club to an 11th-place finish in the league. They finished second in 1987–88, but the club was back in 11th place the season after. Reports say Ferguson almost lost his job. A win against Crystal Palace in the 1990 FA Cup Final replay (after a 3–3 draw) saved Ferguson's career. The season after this, Manchester United won its first Cup Winners' Cup title. It also played in the 1991 UEFA Super Cup. It beat European Cup holders (the champions from the year before) Red Star Belgrade 1–0 in the final at Old Trafford. In 1992, United played in another League Cup final. The club beat Nottingham Forest 1–0 at Wembley. In 1993, Manchester United won its first league title since 1967. A year later, for the first time since 1957, it won a second title in a row. It also won the FA Cup. This means the team completed the first \"Double\" in the club's history. United then became the first English club to win the Double twice. It won both competitions again in 1995–96. In 1996–97, it won the league again, one game before the end of the season.\n",
      "\n",
      "In the 1998–99 season, Manchester United became the first team to win the Premier League, FA Cup and UEFA Champions League – \"The Treble\" – in the same season. The team was losing 1–0 going into injury time in the 1999 UEFA Champions League Final. Teddy Sheringham and Ole Gunnar Solskjær scored late goals to claim a dramatic victory against Bayern Munich. It is remembered as one of the greatest comebacks (when you were losing and came back to win) of all time. The club also won the Intercontinental Cup. It beat Palmeiras 1–0 in Tokyo. Ferguson was then knighted for his services to football. He became Sir Alex Ferguson.\n",
      "\n",
      "Manchester United won the league again in the 1999–2000 and 2000–01 seasons. The team finished third in 2001–02. It won the title again in 2002–03. It won the 2003–04 FA Cup. United beat Millwall 3–0 in the final at the Millennium Stadium in Cardiff. It won the trophy for a record 11th time. In the 2005–06 season, Manchester United did not play in the knockout phase of the UEFA Champions League. This was the first time in over ten years. The club still managed to finish second in the league. It also won the 2006 Football League Cup Final against Wigan Athletic. The club won the Premier League again in the 2006–07 season. In 2007–08, it won the European double. United won a penalty shootout 6–5 against Chelsea in the 2008 UEFA Champions League Final in Moscow and won its 17th English league title. In that season, Ryan Giggs played a record 759th game for the club. This was more than the old record of Bobby Charlton. In December 2008, the club won the 2008 FIFA Club World Cup. It then won the 2008–09 Football League Cup. Later that year, United won a third Premier League title in a row. In the summer of 2009, United sold Cristiano Ronaldo to Real Madrid for a world record £80 million. In 2010, Manchester United beat Aston Villa 2–1 at Wembley to win the League Cup again. This was the first time it defended (won again the next year) a knockout cup competition.\n",
      "\n",
      "The club finished second behind Chelsea in the 2009–10 season. In 2010–11, United won a record 19th league title. It won the league with a 1–1 away (at the opponent's stadium) draw against Blackburn Rovers on 14 May 2011. It made this 20 league titles in 2012–13. It won the league with a 3–0 home (at their own stadium) win against Aston Villa on 22 April 2013.\n",
      "\n",
      "Manchester United Name History\n",
      "\n",
      "Years used  \tName\n",
      "1878-1892   \tNewton Heath L&amp;YR F.C.\n",
      "1892-1902   \tNewton Heath F.C.\n",
      "1902-present\tManchester United F.C.\n",
      "\n",
      "===\n",
      " Recent history ===\n",
      "\n",
      "====\n",
      " 2013 - Present ====\n",
      "On 8 May 2013, Ferguson said he would retire as manager at the end of the football season. He said he would stay at the club as a director and club ambassador. The club announced the next day that Everton manager David Moyes would be the new manager from 1 July. He signed a six-year contract. Moyes was sacked after a bad season. The club finished 7th in the Premier League title. It did not qualify for the UEFA Champions League for the first time since 1995–96. The club also did not qualify for the Europa League. This was the first time Manchester United had not qualified for a European competition since 1990.  Ryan Giggs became player-manager (when a player is also the manager at the same time) on 22 April 2014, only 10 months after Moyes became manager. On 19 May 2014, the club said Louis van Gaal would replace Moyes as Manchester United manager. He got a three-year deal. Giggs was his assistant. Malcolm Glazer, of the Glazer family that owns the club, died on 28 May 2014.  \n",
      "\n",
      "In Van Gaal's first season, United finished in fourth in the Premier League. This meant they reached the Champions League. In Van Gaal's second season, United lost in the group stage of this tournament. United bought a few expensive players. In 2015, after winning 3-0 against Sunderland, Man United reached 1st place for the first time in over two years. However, after losing 0-3 to Arsenal, the club fell to 3rd place. The team did not do very well in the league. They finished in 5th place. However, that same season, Manchester United won the FA Cup for a 12th time. This was their first trophy since 2013. Van Gaal was sacked as manager just two days later. \n",
      "\n",
      "José Mourinho became the new manager on 27 May 2016. He signed a three-year contract. That season, United finished in sixth place in the league. They won the EFL Cup for the fifth time and the Europa League for the first time. They also won the FA Community Shield for a record 21st time. This was Mourinho's first competitive (in a competition) match as the manager. United didn not finish in the top four, but qualified for the Champions League because they won the Europa League. Wayne Rooney scored his 250th goal with United. He passed Sir Bobby Charlton as United's all-time top scorer. Rooney left the club at the end of the season. He went back to Everton. On 18 December 2018, Mourinho was sacked by the club after 144 games as the manager. United were in sixth place in the Premier League table. They were 19 points behind leaders Liverpool and 11 points outside the Champions League places (the top four). The day after, former Manchester United striker Ole Gunnar Solskær became the caretaker manager until the end of the season.  \n",
      "\n",
      "On 28 March 2019, Solskjær became the permanent manager on a three-year deal. Until then, he had 14 wins from his first 19 matches as manager. In this time, his team beat Paris Saint-Germain 3-1 in the Champions League after losing the first match 2-0. In the 2019-2020 season, Manchester United reached three semi-finals. They played in the semi-final of the League Cup, the FA Cup and the Europa league. They lost all three matches. This is the first time an English team has lost three cup semi-finals in the same season. Manchester United finished third in the Premier League. They beat Leicester City 2-0 in the last match of the season to stay above Chelsea who finished fourth. In January, the club signed midfield player Bruno Fernandes. He came from Portuguese club Sporting Lisbon, like Cristiano Ronaldo 16 years before. The British media said that Fernandes was one of the main reasons the club finished in the top 4.  Manchester United did not lose in the Premier league for the rest of the season, after Fernandes joined (9 wins, 5 draws).\n",
      "\n",
      "On 18 April 2021, Manchester United said it was joining 11 other European clubs to make a European Super League (ESL). This was going to be a 20-team competition to rival the UEFA Champions League. Many fans, other clubs, media partners, sponsors, players and the UK Government were very unhappy. The club changed its plans just two days later. The executive vice-chairman Ed Woodward resigned from his job. After the ESL plan, there were protests against Woodward and the Glazer family. There was a pitch invasion before a league match against Liverpool on 2 May 2021. This was the first time a match was moved in the Premier League game due to fan protests.\n",
      "\n",
      "That year, the club matched its record for the biggest win in the Premier League. It won 9–0 against Southampton on 2 February 2021. It lost the UEFA Europa League final against Villarreal, on penalties. This was the fourth year without winning a trophy. On 20 November 2021, Solskjær left the club. Former midfielder Michael Carrick became the temporary manager for three games. After this, Ralf Rangnick became the temporary manager until the end of that season.\n",
      "\n",
      "On 21 April 2022, Erik ten Hag became the manager from the end of the 2021–22 season. He signed a contract until June 2025 with the option of one more year. Manchester United won 2–0 in the 2022–23 EFL Cup final against Newcastle United. On 5 March 2023, the club had its biggest defeat. It lost 7–0 against Liverpool at Anfield.\n",
      "\n",
      "In 2023–2024, Manchester United had a difficult season. The club only finished 8th in the Premier League. This was its lowest finish in the League since 1989–1990. However, the club won its 13th FA Cup against rivals Manchester City, at Wembley on 25 May 2024. The final finished 2–1 to United. Alejandro Garnacho and Kobbie Mainoo both scored in the first half. Jeremy Doku scored late in the second half for Man City. This was Ten Hag's second trophy in two seasons.\n",
      "\n",
      "==\n",
      " Crest and colours ==\n",
      "The club crest comes from the Manchester City Council coat of arms. However, on the current crest only the ship in full sail is still there. The devil comes from the club's nickname \"The Red Devils\". Club programmes and scarves in the 1960s had a devil on them. It became part of the club crest in 1970. The club added the crest to the front of the shirt in 1971.\n",
      "\n",
      "Newton Heath's uniform in 1879 has been documented as 'white with blue cord'. This was four years before the club played its first match in a competition. A 1892 photograph of the Newton Heath team seems to show the players wearing red-and-white quartered shirts and navy blue knickerbockers. Between 1894 and 1896, the players wore green and gold shirts. In 1896, these changed to white shirts. They were worn with navy blue shorts.\n",
      "\n",
      "When the club name changed in 1902, the club changed to red shirts, white shorts and black socks. This became the normal Manchester United home kit (the shirt, shorts and socks). The kit did not change very much until 1922. The club then used white shirts with a dark red \"V\" around the neck. This was similar to the shirt worn in the 1909 FA Cup Final. This stayed as part of the home kits until 1927. For a period in 1934, the cherry (red) and white hooped (with large horizontal stripes) change shirt (used when the home shirt was too similar to the other team's) became the home shirt. The season after, the players used the red shirt after the club finished 20th in the Second Division and the hooped shirt became the change shirt again. The club used white socks instead of black from 1959 to 1965. They then used red socks until 1971. They sometimes used white. In 1971, the club used black socks again. The players sometimes still wear black shorts and white socks with the home shirt. This is most often in away games, if the other team's colours are too similar. Starting in 1997–98, United usually used white socks for European games. These matches are usually played during the week in the evening. The white socks help players see the other players in their teams more easily. For 2018–19, black shorts and red socks became the main choice for the home kit. As of 2020, the home kit is a red shirt with the trademark Adidas three stripes in red on the shoulders, white shorts and black socks. \n",
      "\n",
      "The Manchester United away kit has often been a white shirt, black shorts and white socks. However, this was not always the away kit. The players sometimes used an all-black kit with blue and gold trimmings between 1993 and 1995. They wore navy blue shirts with silver horizontal pinstripes during the 1999–2000 season. The 2011–12 away kit had a royal blue chest and sleeves with hoops made of small dark navy blue and black stripes, with black shorts and blue socks. In the 1995–96 season there was an all-grey away kit. The team only used it for five games. The last time United used it was against Southampton. Alex Ferguson told the team to change into the third kit at half-time. The players said it was difficult to see the other players in their team because the colours were similar to the crowd. United never won a competitive game in that kit. In 2001, to celebrate 100 years as \"Manchester United\", the club made a reversible white and gold away kit. The real match day shirts (the shirts the players used) were not reversible.\n",
      "\n",
      "The club's third kit is often all-blue. This was most recently true during the 2014–15 season. The players also wore a green-and-gold halved (half green, half gold) shirt between 1992 and 1994. They used a blue-and-white striped shirt during the 1994–95 and 1995–96 seasons and once in 1996–97. They wore an all-black kit during the 1998–99 season when they won the Treble. They used a white shirt with black-and-red horizontal pinstripes between 2003–04 and 2005–06. From 2006–07 to 2013–14, the third kit was the away kit of the season before. However, they used the new club shirt sponsor in 2006–07 and 2010–11. The only time they did not do this was in 2008–09. They used an all-blue kit to mark the 40th anniversary of the 1967–68 European Cup win.\n",
      "\n",
      "===\n",
      " Kit evolution ===\n",
      "\n",
      "\t\t\t\t\n",
      "\n",
      "\n",
      "\t\t\t\t\t\n",
      "\n",
      "\n",
      "\n",
      "; Notes\n",
      "\n",
      "\n",
      "\n",
      "\n",
      "==\n",
      " Grounds ==\n",
      "\n",
      "\n",
      "===\n",
      " 1878–1893: North Road ===\n",
      "Newton Heath first played on a field on North Road. This was close to the railway. At first, the capacity (number of people who could watch) was about 12,000. However, club officials said the facilities were not good enough for a club that wanted to join The Football League. They made it bigger in 1887. In 1891, Newton Heath bought two grandstands. Each held 1,000 people. Attendances (the number of people watching) were not recorded for many of the early matches at North Road. However, the highest attendance was about 15,000. This was for a First Division match against Sunderland on 4 March 1893. There was a similar attendance for a friendly match (not competitive) against Gorton Villa on 5 September 1889.\n",
      "\n",
      "===\n",
      " 1893–1910: Bank Street ===\n",
      "In June 1893, Manchester Deans and Canons, the owner of North Road, evicted the team. They did not think that the club was right to make people pay to get into the ground. The club secretary, A. H. Albut, procured the use of the Bank Street ground in Clayton. At first it had no stands. By the start of the 1893–94 season, there were two stands. One stand was along the whole length of the pitch on one side. The other stand was behind the goal at the \"Bradford end\". At the opposite end, the \"Clayton end\", the ground had been \"built up, thousands thus being provided for\". Newton Heath's first league match at Bank Street was against Burnley on 1 September 1893. 10,000 people watched and Alf Farman scored a hat-trick. Newton Heath's won 3–2. The club added other stands for the next league game against Nottingham Forest, three weeks later. In October 1895, before the visit of Manchester City, the club bought a 2,000-capacity stand. This was from the Broughton Rangers rugby league club. Newton Heath also put up another stand on the \"reserved side\" (as opposed to the \"popular side\"). However, bad weather meant only 12,000 could watch the match against Manchester City.\n",
      "\n",
      "Bailiffs closed the Bank Street ground for a time in 1902. The club captain, Harry Stafford, raised enough money to pay for the club's next away game at Bristol City. He also helped to find a ground at Harpurhey for the next reserves game against Padiham. After investors gave the club more money, the new club president John Henry Davies paid £500 for a new 1,000-seat stand at Bank Street. Within four years, the stadium had cover on all four sides. It was also able to hold about 50,000 people. Some of them could watch from the viewing gallery on top of the Main Stand.\n",
      "\n",
      "===\n",
      " 1910–present: Old Trafford ===\n",
      "\n",
      "Manchester United won its first league title in 1908. It won the FA Cup a year later. Davies decided that that Bank Street was too small for his ambitions. In February 1909, six weeks before the club's first FA Cup title, Old Trafford became the home of Manchester United. The club bought the land for around £60,000. Architect Archibald Leitch had about £30,000 to build the stadium. The original plans were for a capacity of 100,000 people. However, this changed to 77,000 because it was too expensive. Brameld and Smith of Manchester built the stadium. The stadium's record attendance was on 25 March 1939. It was for an FA Cup semi-final between Wolverhampton Wanderers and Grimsby Town. 76,962 people watched the match.\n",
      "\n",
      "Bombing in the Second World War destroyed much of the stadium. The central tunnel in the South Stand was the only part left of that stand. After the war, the club got money from the War Damage Commission. They got £22,278. The team played its \"home\" games at Manchester City's Maine Road ground while Old Trafford was being built again. Manchester United had to pay £5,000 per year, and a small percentage of gate receipts (tickets sold). The club made the stadium better over the years. It added roofs, first to the Stretford End and then to the North and East Stands. Pillars supported (held) the roofs. This blocked the view of many fans. To make this better, the club built a cantilevered structure instead. The Stretford End was the last stand to get a cantilevered roof. This was finished before the 1993–94 season started. The club built four  pylons for lighting. Each pylon had 54 individual floodlights. The club used them for the first time on 25 March 1957. The pylons cost £40,000. In 1987, the club stopped using these pylons. They used a new lighting system inside in the roof of each stand instead. This is the same system used today.\n",
      "\n",
      "The Taylor Report said that clubs needed to have a stadium with only seats. This meant that Old Trafford could only have 44,000 fans at the same time in 1993. In 1995, the North Stand changed into three tiers (levels). After this, about 55,000 people could watch the games. At the end of the 1998–99 season, the club built second tiers for the East and West Stands. 67,000 people could watch the games after this. Between July 2005 and May 2006, they added 8,000 more seats with second tiers in the north-west and north-east quadrants (corners). Fans used some of the new seating for the first time on 26 March 2006. This set a new attendance record of 69,070. This was the most for a Premier League match. The record slowly went up. It was highest on 31 March 2007. 76,098 fans saw Manchester United beat Blackburn Rovers 4–1. Only 114 seats (0.15 percent of the total capacity of 76,212) were empty. In 2009, the seating changed. This meant there were 255 fewer seats. The new capacity became 75,957. \n",
      "\n",
      "Manchester United has the second highest average attendance of European football clubs. This is behind only Borussia Dortmund.\n",
      "\n",
      "==\n",
      " Support ==\n",
      "Manchester United is one of the most popular football clubs in the world. It has one of the highest average home attendances (the most people that go to the stadium to watch) in Europe. The club says that there are more than 200 officially recognised groups of the Manchester United Supporters Club (MUSC). They are in at least 24 countries. The club goes on summer tours every year. These are very popular. Accountancy firm and sports industry consultants Deloitte says that they believe that Manchester United has 75 million fans in the world. The club has the third most people in the world following them on social media among sports teams. The first and second are Barcelona and Real Madrid. It has over 73 million Facebook fans as of December 2019. A 2014 study showed that Manchester United had the loudest fans in the Premier League.\n",
      "\n",
      "Two independent bodies help the fans: the Independent Manchester United Supporters' Association (IMUSA), which has close links to the club through the MUFC Fans Forum, and the Manchester United Supporters' Trust (MUST). After the Glazer family bought the club in 2005, a group of fans formed another club. This club is called F.C. United of Manchester. The West Stand of Old Trafford is called the \"Stretford End\". It is the home end(where the local fans sit) and the loudest part of the stadium.\n",
      "\n",
      "===\n",
      " Rivalries ===\n",
      "Manchester United has rivalries with Arsenal, Leeds United, Liverpool, and Manchester City. The club plays in the Manchester derby against Manchester City.\n",
      "thumb|Cristiano Ronaldo on the ball in a 2009 Premier League game between Manchester United and Liverpool\n",
      "The rivalry with Liverpool comes from the competition between the two cities during the Industrial Revolution. At the time, Manchester was famous for its textile industry and Liverpool was an important port. The two clubs are the most successful English teams in both domestic (in England) and international competitions. Between them they have won 39 league titles, 9 European Cups, 4 UEFA Cups, 5 UEFA Super Cups, 20 FA Cups, 14 League Cups, 2 FIFA Club World Cups, 1 Intercontinental Cup and 37 FA Community Shields. It is one of the biggest rivalries in the football world. It is also one of the most famous matches in English football.\n",
      "\n",
      "The \"Roses Rivalry\" with Leeds comes from the Wars of the Roses. These were wars between the House of Lancaster and the House of York, with Manchester United part of Lancashire and Leeds part of Yorkshire.\n",
      "\n",
      "The rivalry with Arsenal comes from the two teams, and managers Alex Ferguson and Arsène Wenger, often fighting for the Premier League title. They have 33 league trophies between them (20 for Manchester United, 13 for Arsenal). This has become one of the biggest Premier League rivalries in history.\n",
      "\n",
      "==\n",
      " Global brand ==\n",
      "Manchester United has been called a global brand. In 2011, Brand Finance said the club's trademarks and intellectual property was worth £412 million. This was £39 million more than the year before. It was also £11 million more than the second best brand, Real Madrid. It gave the brand a strength rating of AAA (Extremely (very) Strong). In July 2012, Forbes magazine placed Manchester United first in its list of the ten most valuable (worth the most money) sports team brands. It said that the Manchester United brand was worth $2.23 billion. The club is third in the Deloitte Football Money League (behind Real Madrid and Barcelona). In January 2013, the club became the first sports team in the world to be valued at $3 billion. Forbes magazine valued the club at $3.3 billion. This was $1.2 billion more than the next most valuable sports team. Real Madrid were first for the next four years, but Manchester United returned to the top of the Forbes list in June 2017. It had a valuation of $3.689 billion.\n",
      "\n",
      "Many say that the strength of Manchester United's global brand is thanks to Matt Busby. He built the team again after the Munich air disaster. Bobby Charlton and Nobby Stiles (both won the World Cup with England in 1966), Denis Law and George Best played in this team. The team had an attacking style of play and \"captured the imagination of the English footballing public\". Busby's team also became linked to the liberalisation of Western society during the 1960s. George Best was known as the \"Fifth Beatle\" because of his haircut. He was the first footballer to be important in the media away from football.\n",
      "\n",
      "Manchester United was the second English football club to float on the London Stock Exchange in 1991. The club had a lot of money after this. This helped with its commercial strategy. The club focused on both commercial and sporting success. This brought high profits whereas the football industry often brings large losses. The Manchester United brand became stronger because the media were very interested in player's personal lives. The most famous example is David Beckham (who also made his own global brand). This attention often makes people more interested in the football. This gives the club more chances for sponsorship, which becomes more valuable when it is on television often. During his time with the club, Beckham became more popular across Asia. This was very important for the club's commercial success in that part of the world.\n",
      "\n",
      "When a club finishes in a better position in the league it gets more money from television rights. This means that if a teams wins more matches, the club also gets more money. Since the Premier League started, Manchester United has had the the most revenue from the BSkyB television rights. Manchester United has also had the highest commercial income of any English club. In 2005–06, the club's commercial operation made £51 million. This was £42.5 million at Chelsea, £39.3 million at Liverpool, £34 million at Arsenal and £27.9 million at Newcastle United. An important sponsorship relationship was with sports company Nike. They looked after the club's merchandising operation as part of a £303 million 13-year partnership between 2002 and 2015. There are many branded products and services to buy through Manchester United Finance and the club's membership scheme. There are also Manchester United-branded media services. For example, the club has its own television channel, MUTV. This has helped the club get more fans who aren't able to got to Old Trafford.\n",
      "\n",
      "===\n",
      " Sponsorship ===\n",
      "\n",
      "Period   \tKit manufacturer                                 \tShirt sponsor (chest)\tShirt sponsor (sleeve)\n",
      "1945–1975\tUmbro                                            \t—                    \t—\n",
      "1975–1980\tAdmiral                                          \t                     \t\n",
      "1980–1982\tAdidas                                           \t                     \t\n",
      "1982–1992\tSharp Electronics\t                     \t\n",
      "1992–2000\tUmbro                                            \t                     \t\n",
      "2000–2002\tVodafone        \t                     \t\n",
      "2002–2006\tNike                                             \t                     \t\n",
      "2006–2010\tAIG             \t                     \t\n",
      "2010–2014\tAon             \t                     \t\n",
      "2014–2015\tChevrolet       \t                     \t\n",
      "2015–2018\tAdidas                                           \t                     \t\n",
      "2018–2021\tKohler                                           \t                     \t\n",
      "2021–2022\tTeamViewer                                       \t                     \t\n",
      "2022–    \tTeamViewer                                       \tDXC Technology       \t\n",
      "\n",
      "\n",
      "Sharp Electronics was the club's first shirt sponsor. They first signed a five-year deal worth £500,000. This was at the beginning of the 1982–83 season. This relationship lasted until the end of the 1999–2000 season. In 2000, Vodafone agreed a four-year, £30 million deal. Vodafone then agreed to pay £36 million to make the deal four years longer. However, after two seasons it stopped being the sponsor to focus on its sponsorship of the Champions League.\n",
      "\n",
      "For the 2006–07 season, American insurance corporation AIG was the shirt sponsor. They signed a four-year £56.5 million deal. In September 2006, it was the biggest shirt sponsorship deal in the world. In 2010, American reinsurance company Aon became the club's shirt sponsor. They signed a four-year deal worth about £80 million. It became the most expensive shirt sponsorship deal in football history. In August 2011, Manchester United announced their first training kit sponsor. They agreed a four-year deal with DHL. Reports say it was worth £40 million. Reports also say it was the first training kit sponsorship deal in English football. The DHL contract lasted for just over a year. The club cancelled the contract in October 2012. DHL stayed the club's official logistics partner. United then sold the contract for the training kit sponsorship to Aon in April 2013. The deal was worth £180 million over eight years. This was also for the naming rights (Aon were allowed to use their name) for the Trafford Training Centre (also called Carrington).\n",
      "\n",
      "The club's first kit manufacturer was Umbro. In 1975, United agreed a five-year deal with Admiral Sportswear. Adidas received the new contract in 1980. Umbro became the manufacturer again in 1992. Umbro's sponsorship lasted for ten years. After this, Nike signed a record £302.9 million deal. This that lasted until 2015. The club sold 3.8 million replica shirts in the first 22 months with the company. The club also had other sponsors such as Aon and Budweiser.\n",
      "\n",
      "On 30 July 2012, United signed a seven-year deal with American automotive corporation General Motors. They became the shirt sponsor after Aon, from the 2014–15 season. The deal was worth about $80m-a-year or $559m over seven years. The club used the logo of General Motors brand Chevrolet on the shirts. Nike said that they would not sign a new kit deal with Manchester United after the 2014–15 season. They said this was because it was becoming more expensive. In 2015, Adidas became the new kit sponsor for Manchester United. They signed a world-record 10-year deal worth at least £750 million. Plumbing products manufacturer Kohler became the club's first sleeve sponsor at the start of the 2018–19 season. The deal with General Motors ended in 2021. Manchester United then signed a five-year deal with TeamViewer. The deal is worth £235m.\n",
      "\n",
      "==\n",
      " Ownership and finances ==\n",
      "The Lancashire and Yorkshire Railway Company first funded the club. The club became a limited company in 1892. It sold shares to its supporters for £1. It used an application form. In 1902, the four local businessmen who invested £500 to save the club from bankruptcy became the main owners. John Henry Davies was among these. He became the club president. After his death in 1927, the club was at risk of bankruptcy again. James W. Gibson saved it in December 1931. He took control of the club after investing £2,000. Gibson promoted his son, Alan, to the board in 1948. James Gibson died three years later. The Gibson family stayed as the owner of the club through James' wife, Lillian. However, the former player Harold Hardman became the chairman .\n",
      "\n",
      "Louis Edwards, a friend of Matt Busby, became part of the board a few days after the Munich air disaster. He started to buy shares in the club. He spent about £40,000. He had a 54 percent shareholding and took control in January 1964. When Lillian Gibson died in January 1971, Alan Gibson got her shares. He sold some of his shares to Louis Edwards' son, Martin, in 1978. Martin Edwards became chairman when his father died in 1980. Media tycoon Robert Maxwell tried to buy the club in 1984. However, he did not want to pay the price Edward wanted. In 1989, chairman Martin Edwards tried to sell the club to Michael Knighton for £20 million. The sale did not happen. Knighton joined the board of directors instead.\n",
      "\n",
      "Manchester United was floated on the stock market in June 1991 (raising £6.7 million). Another businessman wanted to buy them in 1998. This time it was Rupert Murdoch and his British Sky Broadcasting Corporation. As a result Shareholders United Against Murdoch – now the Manchester United Supporters' Trust – encouraged fans to buy shares in the club to stop any hostile takeover. The Manchester United board accepted a £623 million offer. However, the Monopolies and Mergers Commission stopped the deal at the last stage in April 1999. A few years later, there was a power struggle (different people wanted control) at the club. The club manager, Alex Ferguson disagreed with his horse-racing partners, John Magnier and J. P. McManus. They had slowly become the largest shareholders. They had an argument about who owned the horse Rock of Gibraltar. Magnier and McManus didn't want Ferguson to be manager anymore. The board then looked for new investors to try to make the Irishmen's majority smaller.\n",
      "\n",
      "In May 2005, Malcolm Glazer bought the 28.7 percent stake from McManus and Magnier. This meant he had a controlling interest through his company Red Football Ltd. He borrowed a lot of money to buy the club and become the owner. The club's value was about £800 million (at the time about $1.5 billion). After this, the club was not on the stock exchange anymore. In July 2006, the club announced a £660 million debt refinancing package (deal). This meant there was 30 percent less interest to pay every year. It was then about £62 million a year. In January 2010, the club had debts of £716.5 million ($1.17 billion). Manchester United refinanced more through a bond issue worth £504 million. This meant the club could pay most of the £509 million it owed to international banks. The club had to pay interest of about £45 million per year on the bonds.  The bonds were to mature on 1 February 2017. The club's debt made fans angry. They staged a protest on 23 January 2010, at Old Trafford and at the club's Trafford Training Centre. Supporter groups told fans who went to the match to wear green and gold, the colours of Newton Heath. On 30 January, reports said that the Manchester United Supporters' Trust had held meetings with a group of rich fans. These fans were nicknamed the \"Red Knights\". They had plans to buy the club from the Glazers.\n",
      "\n",
      "In August 2011, reports said the Glazers went to Credit Suisse to start a $1 billion (approx. £600 million) initial public offering (IPO) on the Singapore stock exchange. This meant the value of the club would be more than £2 billion. However, in July 2012, the club announced plans to list its IPO on the New York Stock Exchange instead. The share price was going to be between $16 and $20 each. The price fell to $14 by the launch of the IPO on 10 August. This was because of bad comments from Wall Street analysts. It was also because Facebook had a bad start on the stock market in May 2012. Even with the lower share price, Manchester United was valued at $2.3 billion. This made is most valuable football club in the world. \n",
      "\n",
      "There are two different types of shares for the club. The people who own the shares have different voting rights (to make decisions) at the club. The public have \"Class A\" share. These shares have 10 times lesser voting rights than the Glazers own. Those shares are called \"Class B\" shares. At the start in 2012, the public could only buy 10% of the shares. As of 2019, the Glazers still had control over the club. They had over 70% of shares. They had even higher voting power.\n",
      "\n",
      "In 2012, The Guardian estimated that the club had paid over £500 million in debt interest and other fees for the Glazers. In 2019, The Guardian reported that this sum was now £1 billion. At the end of 2019, the club had a net debt of nearly £400 million.\n",
      "\n",
      "In 2023, the Glazers were interested in selling some shares. Different investors were interested. Sir Jim Ratcliffe, who owns INEOS, and Hamad bin Jassim bin Jaber Al Thani, a Qatari sheikh, both said they were interested in investing in the club. In March 2023, Finnish entrepreneur Thomas Zilliacus also said he was interested.\n",
      "\n",
      "On 24 December 2023, the club said that Ratcliffe had bought 25 per cent of Manchester United. It also said that his INEOS Sport company was going to look after football operations. The Glazers are still the biggest shareholders. They own over 40% of the shares. Sir Jim Ratcliffe completed the deal to buy shares in the club on 21 February 2024. As of 2024, he owns 27.7% of the club (25% of the Class A shares and 25% of the Class B shares).\n",
      "\n",
      "==\n",
      "Players==\n",
      "===\n",
      "First-team squad===\n",
      "\n",
      "\n",
      "\n",
      "\n",
      "\n",
      "\n",
      "\n",
      "\n",
      "\n",
      "\n",
      "\n",
      "\n",
      "\n",
      "\n",
      "\n",
      "\n",
      "\n",
      "\n",
      "\n",
      "\n",
      "\n",
      "\n",
      "\n",
      "\n",
      "\n",
      "\n",
      "\n",
      "\n",
      "\n",
      "\n",
      "\n",
      "====\n",
      " Out on loan ====\n",
      "\n",
      "\n",
      "\n",
      "\n",
      "\n",
      "\n",
      "\n",
      "\n",
      "\n",
      "\n",
      "\n",
      "===\n",
      " Player of the Year awards ===\n",
      "\n",
      "Team:      \tFirst team                            \tU21s                              \tU18s                                         \t\n",
      "Award      \tSir Matt Busby Player of the Year     \tPlayers' Player of the Year       \tDenzil Haroun Reserve Team Player of the Year\tJimmy Murphy Young Player of the Year\n",
      "Inaugurated\t1987–88                               \t2005–06                           \t1989–90                                      \t1989–90\n",
      "Holder     \tBruno Fernandes\tDiogo Dalot\tElyh Harrison         \tEthan Wheatly\n",
      "\n",
      "\n",
      "\n",
      "==\n",
      " Coaching staff ==\n",
      "\n",
      "Position                                           \tStaff\n",
      "Manager                                            \t🇵🇹 Ruben Filipe Marques Amorim\n",
      "Assistant coaches                                  \t🇵🇹 Carlos Fernandes\n",
      "🇵🇹 Adelio Candido\n",
      "\n",
      "🇵🇹 Emanuel Ferro\n",
      "First-team coaches                                 \tDarren Fletcher\n",
      " Benni McCarthy\n",
      "Senior goalkeeping coach                           \tRichard Hartis🇵🇹 Jorge Vital\n",
      "Assistant goalkeeping coach                        \tCraig Mawson\n",
      "Head of sports medicine (first-team doctor)        \tGary O'Driscoll\n",
      "Head of rehabilitation and physiotherapy           \tVacant\n",
      "First-team lead physio                             \tRichard Merron\n",
      "Head of physical performance                       \tEd Leng\n",
      "Fitness coaches                                    \tPaulo Gaudino\n",
      " Charlie Owen\n",
      "First-team strength and power coach                \tMichael Clegg\n",
      "First-team sports scientist                        \tMichael Eglon\n",
      "🇵🇹 Paulo Barreira\n",
      "Director of academy                                \tNick Cox\n",
      "Head of player development &amp; coaching (U19–U23)\tTravis Binnion\n",
      "Under-21s lead coach                               \t\n",
      "Under-18s lead coach                               \tAdam Lawrence\n",
      "Senior academy coach                               \tMark Dempsey\n",
      "\n",
      "\n",
      "===\n",
      " Managerial history ===\n",
      "\n",
      "\n",
      "\n",
      "Dates\tName               \tNotes\n",
      "1878–1892                                                   \tUnknown            \t\n",
      "1892–1900                                                   \tA. H. Albut        \t\n",
      "1900–1903                                                   \tJames West         \t\n",
      "1903–1912                                                   \tErnest Mangnall    \t\n",
      "1912–1914                                                   \tJohn Bentley       \t\n",
      "1914–1921                                                   \tJack Robson        \t\n",
      "1921–1926                                                   \tJohn Chapman       \t\n",
      "1926–1927                                                   \tLal Hilditch       \tPlayer-manager\n",
      "1927–1931                                                   \tHerbert Bamlett    \t\n",
      "1931–1932                                                   \tWalter Crickmer    \t\n",
      "1932–1937                                                   \tScott Duncan       \t\n",
      "1937–1945                                                   \tWalter Crickmer    \t\n",
      "1945–1969                                                   \tMatt Busby         \t\n",
      "1958                                                        \tJimmy Murphy       \tCaretaker manager\n",
      "1969–1970                                                   \tWilf McGuinness    \t\n",
      "1970–1971                                                   \tMatt Busby         \t\n",
      "1971–1972                                                   \tFrank O'Farrell    \t\n",
      "1972–1977                                                   \tTommy Docherty     \t\n",
      "1977–1981                                                   \tDave Sexton        \t\n",
      "1981–1986                                                   \tRon Atkinson       \t\n",
      "1986–2013                                                   \tAlex Ferguson      \t\n",
      "2013–2014                                                   \tDavid Moyes        \t\n",
      "2014                                                        \tRyan Giggs         \tCaretaker player-manager\n",
      "2014–2016                                                   \tLouis van Gaal     \t\n",
      "2016–2018                                                   \tJosé Mourinho      \t\n",
      "2018–2021                                                   \tOle Gunnar Solskjær\t\n",
      "2021                                                        \tMichael Carrick    \tCaretaker manager\n",
      "2021–2022                                                   \tRalf Rangnick      \tInterim manager\n",
      "2022–2024                                                   \tErik ten Hag       \t\n",
      "2024-                                                       \tRuben Amorim       \t\n",
      "\n",
      "\n",
      "==\n",
      " Management ==\n",
      "\n",
      "* Owner: Glazer family via Red Football Shareholder Limited and Sir Jim Ratcliffe\n",
      "\n",
      "===\n",
      " Manchester United plc ===\n",
      "\n",
      "Position                                                                 \tName\n",
      "Co-chairmen                                                              \tAvram Glazer\n",
      "Joel Glazer\n",
      "Interim chief executive officer and chief legal officer / general counsel\tPatrick Stewart\n",
      "Chief financial officer                                                  \tCliff Baty\n",
      "Chief operating officer                                                  \tCollette Roche\n",
      "Non-executive directors                                                  \tBryan Glazer\n",
      "Kevin Glazer\n",
      "Edward Glazer\n",
      "Darcie Glazer Kassewitz\n",
      "Robert Leitão\n",
      "John Hooks\n",
      "Rob Nevin\n",
      "John Reece\n",
      "Manu Sawhney\n",
      "\n",
      "\n",
      "===\n",
      " Manchester United Football Club ===\n",
      "\n",
      "Office                                        \tName\n",
      "Honorary president                            \tMartin Edwards\n",
      "Directors                                     \tDave Brailsford\n",
      "Jean-Claude Blanc\n",
      "David Gill\n",
      "Michael Edelson\n",
      "Sir Alex Ferguson\n",
      "Football director                             \tVacant\n",
      "Deputy football director                      \tAndy O'Boyle\n",
      "Technical director                            \tJason Wilcox \n",
      "Director of football negotiations             \tMatt Hargreaves\n",
      "Director of football operations               \tDavid Harrison\n",
      "Club secretary                                \tRebecca Britain\n",
      "Director of football insights &amp; innovation\tRichard Hawkins\n",
      "Director of data science                      \tDominic Jordan\n",
      "\n",
      "\n",
      "==\n",
      "Honours==\n",
      "Manchester United has won more trophies than most clubs in Europe. The club's first trophy was the Manchester Cup. It won this as Newton Heath LYR in 1886. In 1908, the club won its first league title. It won the FA Cup for the first time the year after. Since then, it has won a record 20 first division titles. This includes a record 13 Premier League titles. Its 13 FA Cups is second only to Arsenal (14). They have also played a record 30 times in the FA Community Shield (which used to be called the FA Charity Shield). This is a game at the start of each season between the winners of the league and the FA Cup from the season before. Out of those 30 games, Manchester United won 21. This counts four times when the match was a draw and the two clubs shared the trophy.\n",
      "\n",
      "The club won a lot under manager Matt Busby. This started with the FA Cup in 1948. The high point was becoming the first English club to win the European Cup in 1968, and winning five league titles in the years before. However, the club's best decade was in the 1990s when Alex Ferguson was the manager. In the 1990s, he helped the club win five league titles, four FA Cups, one League Cup, five Charity Shields (one shared), one UEFA Champions League, one UEFA Cup Winners' Cup, one UEFA Super Cup and one Intercontinental Cup. The club also won the Double (winning the Premier League and FA Cup in the same season) three times during the 1990s. Before their first double in 1993–94, it had only happened five times in English football. When they won a second double in 1995–96, it was called the \"Double Double\". They were the first team to win the double twice. They won the European Cup (now the UEFA Champions League) for a second time in 1999, and the Premier League and FA Cup. This means they became the first English club to win the Treble. That Champions League title meant they could play in the Intercontinental Cup (which doesn't exist anymore). They also won this. They are the only British team to win the Intercontinental Cup. They won another Champions League title in 2008. This meant they qualified for the 2008 FIFA Club World Cup. They also won this cup. Until 2019, they were the only British team to win that competition. Liverpool then won it in 2019.\n",
      "\n",
      "The club's won the UEFA Europa League in 2016–17. By winning that title, United became the fifth club to win the \"European Treble\" of European Cup/UEFA Champions League, Cup Winners' Cup, and UEFA Cup/Europa League after Juventus, Ajax, Bayern Munich and Chelsea. \n",
      "\n",
      "The club's won its 2022–23 EFL Cup in February 2023. Its most recent trophy is the FA Cup. The club won 2–1 against Manchester City on 25 May 2024.\n",
      "\n",
      "Manchester United's honours\n",
      "\n",
      "Type                                                                              \tCompetition                                                                                                                                                                                                                                                                                                                                                                                            \tTitles                                                                                                                                     \tSeasons\n",
      "Domestic                                                                          \tFirst Division/Premier League\t20                                                                                                                                         \t1907–08, 1910–11, 1951–52, 1955–56, 1956–57, 1964–65, 1966–67, 1992–93, 1993–94, 1995–96, 1996–97, 1998–99, 1999–2000, 2000–01, 2002–03, 2006–07, 2007–08, 2008–09, 2010–11, 2012–13\n",
      "Second Division\t2                                                                                                                                                                                                                                                                                                                                                                                                      \t1935–36, 1974–75                                                                                                                           \t\n",
      "FA Cup                                                                            \t13                                                                                                                                                                                                                                                                                                                                                                                                     \t1908–09, 1947–48, 1962–63, 1976–77, 1982–83, 1984–85, 1989–90, 1993–94, 1995–96, 1998–99, 2003–04, 2015–16, 2023–24                        \t\n",
      "Football League Cup/EFL Cup                                                       \t6                                                                                                                                                                                                                                                                                                                                                                                                      \t1991–92, 2005–06, 2008–09, 2009–10, 2016–17, 2022–23                                                                                       \t\n",
      "FA Charity Shield/FA Community Shield                                             \t21                                                                                                                                                                                                                                                                                                                                                                                                     \t1908, 1911, 1952, 1956, 1957, 1965*, 1967*, 1977*, 1983, 1990*, 1993, 1994, 1996, 1997, 2003, 2007, 2008, 2010, 2011, 2013, 2016 (* shared)\t\n",
      "Continental                                                                       \tEuropean Cup/UEFA Champions League                                                                                                                                                                                                                                                                                                                                                                     \t3                                                                                                                                          \t1967–68, 1998–99, 2007–08\n",
      "European Cup Winners' Cup                                                         \t1                                                                                                                                                                                                                                                                                                                                                                                                      \t1990–91                                                                                                                                    \t\n",
      "UEFA Europa League                                                                \t1                                                                                                                                                                                                                                                                                                                                                                                                      \t2016–17                                                                                                                                    \t\n",
      "UEFA Super Cup                                                                    \t1                                                                                                                                                                                                                                                                                                                                                                                                      \t1991                                                                                                                                       \t\n",
      "Worldwide                                                                         \tFIFA Club World Cup                                                                                                                                                                                                                                                                                                                                                                                    \t1                                                                                                                                          \t2008\n",
      "Intercontinental Cup                                                              \t1                                                                                                                                                                                                                                                                                                                                                                                                      \t1999                                                                                                                                       \t\n",
      "\n",
      "\n",
      "* \n",
      "*  shared record\n",
      "\n",
      "===\n",
      " Doubles and Trebles ===\n",
      "\n",
      "* Doubles\n",
      "** League and FA Cup (3): 1993–94, 1995–96, 1998–99\n",
      "** League and UEFA Champions League (2): 1998–99, 2007–08\n",
      "** League and EFL Cup (1): 2008–09\n",
      "** EFL Cup and UEFA Europa League (1): 2016–17\n",
      "* Trebles\n",
      "** League, FA Cup and UEFA Champions League (1): 1998–99\n",
      "\n",
      "Short competitions – such as the FA Charity/Community Shield, Intercontinental Cup (now defunct), FIFA Club World Cup or UEFA Super Cup – do not usually count as part of a Double or Treble.\n",
      "\n",
      "==\n",
      " League position ==\n",
      "\n",
      "Season \tLeague                \tPosition\n",
      "2000-01\tEnglish Premier League\t1st\n",
      "2001-02\tEnglish Premier League\t3rd\n",
      "2002-03\tEnglish Premier League\t1st\n",
      "2003-04\tEnglish Premier League\t3rd\n",
      "2004-05\tEnglish Premier League\t3rd\n",
      "2005-06\tEnglish Premier League\t2nd\n",
      "2006-07\tEnglish Premier League\t1st\n",
      "2007-08\tEnglish Premier League\t1st\n",
      "2008-09\tEnglish Premier League\t1st\n",
      "2009-10\tEnglish Premier League\t2nd\n",
      "2010-11\tEnglish Premier League\t1st\n",
      "2011-12\tEnglish Premier League\t2nd\n",
      "2012-13\tEnglish Premier League\t1st\n",
      "2013-14\tEnglish Premier League\t7th\n",
      "2014-15\tEnglish Premier League\t4th\n",
      "2015-16\tEnglish Premier League\t5th\n",
      "2016-17\tEnglish Premier League\t6th\n",
      "2017-18\tEnglish Premier League\t2nd\n",
      "2018-19\tEnglish Premier League\t6th\n",
      "2019-20\tEnglish Premier League\t3rd\n",
      "2020–21\tEnglish Premier League\t2nd\n",
      "2021–22\tEnglish Premier League\t6th\n",
      "2022–23\tEnglish Premier League\t3rd\n",
      "\n",
      "*Bold indicates a place of third or higher.\n",
      "\n",
      "===\n",
      " Former position ===\n",
      "\n",
      "\n",
      "==\n",
      " Club records ==\n",
      "* Record League victory: 10-1 v Wolverhampton, Division 1, 15 October 1892\n",
      "* Record Premiership victory: 9-0 v Ipswich Town, 4 March 1995 and 9-0 v Southampton, 2 February 2021\n",
      "* Record European Cup victory: 10-0 v Anderlecht, European Champion Clubs' Cup, Preliminary Round, 26 September 1956\n",
      "* Record European Cup (Champions League era) victory: 7-1 v A.S. Roma, 10 April 2007\n",
      "* Record home win 10-0 v R.S.C. Anderlecht, 26 September 1956\n",
      "* Record away win: 8-1 v Nottingham Forest, 6 February 1999\n",
      "* Record League defeat: 0-7 v Blackburn Rovers, Division 1, 10 April 1926 / v Aston Villa, Division 1, 27 December 1930 / v Wolves, Division 2, 26 December 1931\n",
      "* Record Cup defeat: 1-7 v Burnley, FA Cup, 1st Round, 13 February 2020\n",
      "* Record 'Home' attendance: 83,250 v Arsenal, Division 1, Maine Road, 7 January 1948\n",
      "* Record League attendance (at Old Trafford): 76,998 v Arsenal, April 2008\n",
      "* Longest unbeaten run: 45 (all competitions), 24 December 1998 to 3 October 1999\n",
      "* Most appearances: 900 - Ryan Giggs\n",
      "* Most League appearances: 606 - Bobby Charlton\n",
      "* Most goals scored: 250 - Wayne Rooney\n",
      "* Most League goals: 199 - Bobby Charlton\n",
      "* Most League goals in a season: 32 - Dennis Viollet, Division 1, 1959-60\n",
      "* Most goals in a season in all competitions: 46 - Denis Law, 1963-64\n",
      "* Most goals scored in a match: 6 - George Best v Northampton Town, 7 February 1970 / Harold Halse v Swindon Town, 25 September 1911\n",
      "* Most goals scored in European competition: 38 - Ruud van Nistelrooy\n",
      "* Goals in consecutive league matches: 10 consecutive matches - Ruud van Nistelrooy, 22 March 2003 to 23 August 2003\n",
      "* Highest transfer fee paid: £89.3 million - Paul Pogba (from Juventus)\n",
      "* Most League goals in a season (by team): 103 (1956/57, 1958/59)\n",
      "* Most points in a 42-game season: 92 - 1993/94\n",
      "* Most points in a 38-game Season: 91 - 1999/2000\n",
      "* Most capped player: 129 - Peter Schmeichel - Denmark\n",
      "* Fastest goal: 15 seconds - Ryan Giggs v Southampton, Premiership, 18 November 1995\n",
      "* Fastest four goals: 13 minutes - Ole Gunnar Solksjær v Nottingham Forest, Premiership, 6 February 1999\n",
      "\n",
      "==\n",
      " Manchester United Women ==\n",
      "\n",
      "A team called Manchester United Supporters Club Ladies started in the late 1970s. It was unofficially recognised as the club's women's team. It helped start the North West Women's Regional Football League in 1989. The team made an official partnership with Manchester United in 2001. It became the club's official women's team. However, in 2005, after Malcolm Glazer became the owner, the club was disbanded. This was because it was seen to be \"unprofitable\" (not good for making money). In 2018, Manchester United formed a new women's football team. It started in the second division of women's football in England in its first season. It won the championship that season. The season after, it joined the first division, the Women's Super League.\n",
      "\n",
      "==\n",
      " Related pages ==\n",
      "* List of Manchester United F.C. players\n",
      "\n",
      "==\n",
      " Notes ==\n",
      "\n",
      "\n",
      "==\n",
      " References ==\n",
      "\n",
      "\n",
      "\n",
      "\n",
      "Category:1878 establishments in England\n",
      " \n",
      "\n",
      "================\n",
      "\n",
      "14248\n"
     ]
    }
   ],
   "execution_count": 26
  },
  {
   "metadata": {},
   "cell_type": "markdown",
   "source": "# 3 - Compare models",
   "id": "a9cc56e06b4e1bf0"
  },
  {
   "metadata": {
    "ExecuteTime": {
     "end_time": "2025-01-06T18:08:59.805171Z",
     "start_time": "2025-01-06T18:08:59.801458Z"
    }
   },
   "cell_type": "code",
   "source": [
    "# Load prompt\n",
    "prompts_path = base_path / \"prompts.yaml\"\n",
    "with open(prompts_path, \"r\") as file:\n",
    "    prompts = yaml.safe_load(file)"
   ],
   "id": "f5f395ab6711aeee",
   "outputs": [],
   "execution_count": 27
  },
  {
   "metadata": {},
   "cell_type": "markdown",
   "source": "## 3.1 - Llama-3.2 1B",
   "id": "8887c57863f0e92e"
  },
  {
   "metadata": {
    "ExecuteTime": {
     "end_time": "2025-01-06T18:09:03.516948Z",
     "start_time": "2025-01-06T18:08:59.850192Z"
    }
   },
   "cell_type": "code",
   "source": [
    "short_article_formatted_llama_1b = convert_text_to_markdown(\n",
    "    model_openrouter=\"meta-llama/llama-3.2-1b-instruct\",\n",
    "    raw_text=short_article[\"text\"],\n",
    "    template=prompts[\"format_markdown\"],\n",
    "    apply_simple_formatting=True,\n",
    "    apply_llm_formatting=True,\n",
    ")\n",
    "short_article_formatted_llama_1b_path = short_article_directory / \"llama_1b.md\"\n",
    "short_article_formatted_llama_1b_path.write_text(short_article_formatted_llama_1b, encoding=\"utf-8\")"
   ],
   "id": "ae887252b79f221c",
   "outputs": [
    {
     "data": {
      "text/plain": [
       "4485"
      ]
     },
     "execution_count": 28,
     "metadata": {},
     "output_type": "execute_result"
    }
   ],
   "execution_count": 28
  },
  {
   "metadata": {
    "ExecuteTime": {
     "end_time": "2025-01-06T18:10:12.087055Z",
     "start_time": "2025-01-06T18:09:03.583377Z"
    }
   },
   "cell_type": "code",
   "source": [
    "llama_1b_tokenizer = AutoTokenizer.from_pretrained(\n",
    "    \"meta-llama/Llama-3.2-1B-Instruct\",\n",
    "    token=huggingface_token\n",
    ")\n",
    "\n",
    "long_article_formatted_llama_1b = convert_long_text_to_markdown(\n",
    "    model_openrouter=\"meta-llama/llama-3.2-1b-instruct\",\n",
    "    raw_text=long_article[\"text\"],\n",
    "    template=prompts[\"format_markdown\"],\n",
    "    tokenizer=llama_1b_tokenizer,\n",
    "    max_tokens=3000,\n",
    "    apply_simple_formatting=True,\n",
    "    apply_llm_formatting=True,\n",
    ")\n",
    "\n",
    "long_article_formatted_llama_1b_path = long_article_directory / \"llama_1b.md\"\n",
    "long_article_formatted_llama_1b_path.write_text(long_article_formatted_llama_1b, encoding=\"utf-8\")"
   ],
   "id": "58028d4c6b65a2db",
   "outputs": [
    {
     "data": {
      "text/plain": [
       "50177"
      ]
     },
     "execution_count": 29,
     "metadata": {},
     "output_type": "execute_result"
    }
   ],
   "execution_count": 29
  },
  {
   "metadata": {},
   "cell_type": "markdown",
   "source": "## 3.2 - Llama-3.2 3B",
   "id": "156161870e4caace"
  },
  {
   "metadata": {
    "ExecuteTime": {
     "end_time": "2025-01-06T18:10:17.450325Z",
     "start_time": "2025-01-06T18:10:12.210258Z"
    }
   },
   "cell_type": "code",
   "source": [
    "short_article_formatted_llama_3b = convert_text_to_markdown(\n",
    "    model_openrouter=\"meta-llama/llama-3.2-3b-instruct\",\n",
    "    raw_text=short_article[\"text\"],\n",
    "    template=prompts[\"format_markdown\"],\n",
    "    apply_simple_formatting=True,\n",
    "    apply_llm_formatting=True,\n",
    ")\n",
    "short_article_formatted_llama_3b_path = short_article_directory / \"llama_3b.md\"\n",
    "short_article_formatted_llama_3b_path.write_text(short_article_formatted_llama_3b, encoding=\"utf-8\")"
   ],
   "id": "b8e8551638f804e8",
   "outputs": [
    {
     "data": {
      "text/plain": [
       "4409"
      ]
     },
     "execution_count": 30,
     "metadata": {},
     "output_type": "execute_result"
    }
   ],
   "execution_count": 30
  },
  {
   "metadata": {
    "ExecuteTime": {
     "end_time": "2025-01-06T18:11:47.450672Z",
     "start_time": "2025-01-06T18:10:17.459440Z"
    }
   },
   "cell_type": "code",
   "source": [
    "llama_3b_tokenizer = AutoTokenizer.from_pretrained(\n",
    "    \"meta-llama/Llama-3.2-3B-Instruct\",\n",
    "    token=huggingface_token\n",
    ")\n",
    "\n",
    "long_article_formatted_llama_3b = convert_long_text_to_markdown(\n",
    "    model_openrouter=\"meta-llama/llama-3.2-3b-instruct\",\n",
    "    raw_text=long_article[\"text\"],\n",
    "    template=prompts[\"format_markdown\"],\n",
    "    tokenizer=llama_3b_tokenizer,\n",
    "    max_tokens=3000,\n",
    "    apply_simple_formatting=True,\n",
    "    apply_llm_formatting=True,\n",
    ")\n",
    "\n",
    "long_article_formatted_llama_3b_path = long_article_directory / \"llama_3b.md\"\n",
    "long_article_formatted_llama_3b_path.write_text(long_article_formatted_llama_3b, encoding=\"utf-8\")"
   ],
   "id": "31532878951f4290",
   "outputs": [
    {
     "data": {
      "text/plain": [
       "59429"
      ]
     },
     "execution_count": 31,
     "metadata": {},
     "output_type": "execute_result"
    }
   ],
   "execution_count": 31
  },
  {
   "metadata": {},
   "cell_type": "markdown",
   "source": "## 3.3 - Llama-3.1 8B",
   "id": "946c817b5a9ee4c9"
  },
  {
   "metadata": {
    "ExecuteTime": {
     "end_time": "2025-01-06T18:11:57.545773Z",
     "start_time": "2025-01-06T18:11:47.641846Z"
    }
   },
   "cell_type": "code",
   "source": [
    "short_article_formatted_llama_8b = convert_text_to_markdown(\n",
    "    model_openrouter=\"nousresearch/hermes-2-pro-llama-3-8b\",\n",
    "    raw_text=short_article[\"text\"],\n",
    "    template=prompts[\"format_markdown\"],\n",
    "    apply_simple_formatting=True,\n",
    "    apply_llm_formatting=True,\n",
    ")\n",
    "short_article_formatted_llama_8b_path = short_article_directory / \"llama_8b.md\"\n",
    "short_article_formatted_llama_8b_path.write_text(short_article_formatted_llama_8b, encoding=\"utf-8\")"
   ],
   "id": "a04afc431d82fedd",
   "outputs": [
    {
     "data": {
      "text/plain": [
       "4665"
      ]
     },
     "execution_count": 32,
     "metadata": {},
     "output_type": "execute_result"
    }
   ],
   "execution_count": 32
  },
  {
   "metadata": {
    "ExecuteTime": {
     "end_time": "2025-01-06T18:13:23.326889Z",
     "start_time": "2025-01-06T18:11:57.549630Z"
    }
   },
   "cell_type": "code",
   "source": [
    "llama_8b_tokenizer = AutoTokenizer.from_pretrained(\n",
    "    \"NousResearch/Hermes-2-Pro-Llama-3-8B\",\n",
    "    token=huggingface_token\n",
    ")\n",
    "\n",
    "long_article_formatted_llama_8b = convert_long_text_to_markdown(\n",
    "    model_openrouter=\"nousresearch/hermes-2-pro-llama-3-8b\",\n",
    "    raw_text=long_article[\"text\"],\n",
    "    template=prompts[\"format_markdown\"],\n",
    "    tokenizer=llama_8b_tokenizer,\n",
    "    max_tokens=3000,\n",
    "    apply_simple_formatting=True,\n",
    "    apply_llm_formatting=True,\n",
    ")\n",
    "\n",
    "long_article_formatted_llama_8b_path = long_article_directory / \"llama_8b.md\"\n",
    "long_article_formatted_llama_8b_path.write_text(long_article_formatted_llama_3b, encoding=\"utf-8\")"
   ],
   "id": "549bfcc69ab51324",
   "outputs": [
    {
     "data": {
      "text/plain": [
       "59429"
      ]
     },
     "execution_count": 33,
     "metadata": {},
     "output_type": "execute_result"
    }
   ],
   "execution_count": 33
  },
  {
   "metadata": {},
   "cell_type": "markdown",
   "source": "## 3.4 - Ministral 8B",
   "id": "40418912ecf89f16"
  },
  {
   "metadata": {
    "ExecuteTime": {
     "end_time": "2025-01-06T18:13:35.406130Z",
     "start_time": "2025-01-06T18:13:23.480199Z"
    }
   },
   "cell_type": "code",
   "source": [
    "short_article_formatted_ministral_8b = convert_text_to_markdown(\n",
    "    model_openrouter=\"mistralai/ministral-8b\",\n",
    "    raw_text=short_article[\"text\"],\n",
    "    template=prompts[\"format_markdown\"],\n",
    "    apply_simple_formatting=True,\n",
    "    apply_llm_formatting=True,\n",
    ")\n",
    "short_article_formatted_ministral_8b_path = short_article_directory / \"ministral_8b.md\"\n",
    "short_article_formatted_ministral_8b_path.write_text(short_article_formatted_ministral_8b, encoding=\"utf-8\")"
   ],
   "id": "e6072f5bc25a42b6",
   "outputs": [
    {
     "data": {
      "text/plain": [
       "4768"
      ]
     },
     "execution_count": 34,
     "metadata": {},
     "output_type": "execute_result"
    }
   ],
   "execution_count": 34
  },
  {
   "metadata": {
    "ExecuteTime": {
     "end_time": "2025-01-06T18:23:11.108595Z",
     "start_time": "2025-01-06T18:20:30.636234Z"
    }
   },
   "cell_type": "code",
   "source": [
    "ministral_8b_tokenizer = AutoTokenizer.from_pretrained(\n",
    "    \"mistralai/Ministral-8B-Instruct-2410\",\n",
    "    token=huggingface_token\n",
    ")\n",
    "\n",
    "long_article_formatted_ministral_8b = convert_long_text_to_markdown(\n",
    "    model_openrouter=\"mistralai/ministral-8b\",\n",
    "    raw_text=long_article[\"text\"],\n",
    "    template=prompts[\"format_markdown\"],\n",
    "    tokenizer=ministral_8b_tokenizer,\n",
    "    max_tokens=3000,\n",
    "    apply_simple_formatting=True,\n",
    "    apply_llm_formatting=True,\n",
    ")\n",
    "\n",
    "long_article_formatted_ministral_8b_path = long_article_directory / \"ministral_8b.md\"\n",
    "long_article_formatted_ministral_8b_path.write_text(long_article_formatted_ministral_8b, encoding=\"utf-8\")"
   ],
   "id": "2a710f3190cb19fc",
   "outputs": [
    {
     "data": {
      "text/plain": [
       "65732"
      ]
     },
     "execution_count": 36,
     "metadata": {},
     "output_type": "execute_result"
    }
   ],
   "execution_count": 36
  },
  {
   "metadata": {},
   "cell_type": "markdown",
   "source": "## 3.5 - Mistral Nemo 12B",
   "id": "3729cfd8c7c3afea"
  },
  {
   "metadata": {
    "ExecuteTime": {
     "end_time": "2025-01-06T18:23:29.917427Z",
     "start_time": "2025-01-06T18:23:11.263125Z"
    }
   },
   "cell_type": "code",
   "source": [
    "short_article_formatted_nemo_12b = convert_text_to_markdown(\n",
    "    model_openrouter=\"mistralai/mistral-nemo\",\n",
    "    raw_text=short_article[\"text\"],\n",
    "    template=prompts[\"format_markdown\"],\n",
    "    apply_simple_formatting=True,\n",
    "    apply_llm_formatting=True,\n",
    ")\n",
    "short_article_formatted_nemo_12b_path = short_article_directory / \"nemo_12b.md\"\n",
    "short_article_formatted_nemo_12b_path.write_text(short_article_formatted_nemo_12b, encoding=\"utf-8\")"
   ],
   "id": "d4861a28d0a9d4c4",
   "outputs": [
    {
     "data": {
      "text/plain": [
       "4766"
      ]
     },
     "execution_count": 37,
     "metadata": {},
     "output_type": "execute_result"
    }
   ],
   "execution_count": 37
  },
  {
   "metadata": {},
   "cell_type": "markdown",
   "source": "## 3.6 - Llama-3.1 70B",
   "id": "b27b474a90ccb816"
  },
  {
   "metadata": {
    "ExecuteTime": {
     "end_time": "2025-01-06T18:28:10.870455Z",
     "start_time": "2025-01-06T18:23:29.991123Z"
    }
   },
   "cell_type": "code",
   "source": [
    "nemo_12b_tokenizer = AutoTokenizer.from_pretrained(\n",
    "    \"mistralai/Mistral-Nemo-Instruct-2407\",\n",
    "    token=huggingface_token\n",
    ")\n",
    "\n",
    "long_article_formatted_nemo_12b = convert_long_text_to_markdown(\n",
    "    model_openrouter=\"mistralai/mistral-nemo\",\n",
    "    raw_text=long_article[\"text\"],\n",
    "    template=prompts[\"format_markdown\"],\n",
    "    tokenizer=nemo_12b_tokenizer,\n",
    "    max_tokens=3000,\n",
    "    apply_simple_formatting=True,\n",
    "    apply_llm_formatting=True,\n",
    ")\n",
    "\n",
    "long_article_formatted_nemo_12b_path = long_article_directory / \"nemo_12b.md\"\n",
    "long_article_formatted_nemo_12b_path.write_text(long_article_formatted_nemo_12b, encoding=\"utf-8\")"
   ],
   "id": "690cd24b810b9af7",
   "outputs": [
    {
     "data": {
      "text/plain": [
       "51981"
      ]
     },
     "execution_count": 38,
     "metadata": {},
     "output_type": "execute_result"
    }
   ],
   "execution_count": 38
  },
  {
   "metadata": {},
   "cell_type": "markdown",
   "source": "## 3.7 - GPT-4o-mini",
   "id": "a44f75a739689f0f"
  },
  {
   "metadata": {
    "ExecuteTime": {
     "end_time": "2025-01-06T18:28:30.372307Z",
     "start_time": "2025-01-06T18:28:10.997371Z"
    }
   },
   "cell_type": "code",
   "source": [
    "short_article_formatted_gpt4o_mini = convert_text_to_markdown(\n",
    "    model_openrouter=\"openai/gpt-4o-mini\",\n",
    "    raw_text=short_article[\"text\"],\n",
    "    template=prompts[\"format_markdown\"],\n",
    "    apply_simple_formatting=True,\n",
    "    apply_llm_formatting=True,\n",
    ")\n",
    "short_article_formatted_gpt4o_mini_path = short_article_directory / \"gpt4o_mini.md\"\n",
    "short_article_formatted_gpt4o_mini_path.write_text(short_article_formatted_gpt4o_mini, encoding=\"utf-8\")"
   ],
   "id": "f1c62b6c2bb19b70",
   "outputs": [
    {
     "data": {
      "text/plain": [
       "4766"
      ]
     },
     "execution_count": 39,
     "metadata": {},
     "output_type": "execute_result"
    }
   ],
   "execution_count": 39
  },
  {
   "metadata": {
    "ExecuteTime": {
     "end_time": "2025-01-06T18:31:47.641290Z",
     "start_time": "2025-01-06T18:28:30.381978Z"
    }
   },
   "cell_type": "code",
   "source": [
    "gpt4o_mini_tokenizer = AutoTokenizer.from_pretrained(\n",
    "    \"Xenova/gpt-4o\",\n",
    "    token=huggingface_token\n",
    ")\n",
    "\n",
    "long_article_formatted_gpt4o_mini = convert_long_text_to_markdown(\n",
    "    model_openrouter=\"openai/gpt-4o-mini\",\n",
    "    raw_text=long_article[\"text\"],\n",
    "    template=prompts[\"format_markdown\"],\n",
    "    tokenizer=gpt4o_mini_tokenizer,\n",
    "    max_tokens=3000,\n",
    "    apply_simple_formatting=True,\n",
    "    apply_llm_formatting=True,\n",
    ")\n",
    "\n",
    "long_article_formatted_gpt4o_mini_path = long_article_directory / \"gpt4o_mini.md\"\n",
    "long_article_formatted_gpt4o_mini_path.write_text(long_article_formatted_gpt4o_mini, encoding=\"utf-8\")"
   ],
   "id": "f97e8c5c056b1738",
   "outputs": [
    {
     "data": {
      "text/plain": [
       "69178"
      ]
     },
     "execution_count": 40,
     "metadata": {},
     "output_type": "execute_result"
    }
   ],
   "execution_count": 40
  },
  {
   "metadata": {},
   "cell_type": "markdown",
   "source": "## 3.8 - DeepSeek V3",
   "id": "130825febfbfb909"
  },
  {
   "metadata": {
    "ExecuteTime": {
     "end_time": "2025-01-06T18:32:06.102284Z",
     "start_time": "2025-01-06T18:31:47.833065Z"
    }
   },
   "cell_type": "code",
   "source": [
    "short_article_formatted_deepseek_v3 = convert_text_to_markdown(\n",
    "    model_openrouter=\"deepseek/deepseek-chat\",\n",
    "    raw_text=short_article[\"text\"],\n",
    "    template=prompts[\"format_markdown\"],\n",
    "    apply_simple_formatting=True,\n",
    "    apply_llm_formatting=True,\n",
    ")\n",
    "short_article_formatted_deepseek_v3_path = short_article_directory / \"deepseek_v3.md\"\n",
    "short_article_formatted_deepseek_v3_path.write_text(short_article_formatted_deepseek_v3, encoding=\"utf-8\")"
   ],
   "id": "939c98891c56f11a",
   "outputs": [
    {
     "data": {
      "text/plain": [
       "4766"
      ]
     },
     "execution_count": 41,
     "metadata": {},
     "output_type": "execute_result"
    }
   ],
   "execution_count": 41
  },
  {
   "metadata": {
    "ExecuteTime": {
     "end_time": "2025-01-06T18:35:56.805095Z",
     "start_time": "2025-01-06T18:32:06.111017Z"
    }
   },
   "cell_type": "code",
   "source": [
    "deepseek_v3_tokenizer = AutoTokenizer.from_pretrained(\n",
    "    \"deepseek-ai/DeepSeek-V3\",\n",
    "    token=huggingface_token\n",
    ")\n",
    "\n",
    "long_article_formatted_deepseek_v3 = convert_long_text_to_markdown(\n",
    "    model_openrouter=\"deepseek/deepseek-chat\",\n",
    "    raw_text=long_article[\"text\"],\n",
    "    template=prompts[\"format_markdown\"],\n",
    "    tokenizer=deepseek_v3_tokenizer,\n",
    "    max_tokens=3000,\n",
    "    apply_simple_formatting=True,\n",
    "    apply_llm_formatting=True,\n",
    ")\n",
    "\n",
    "long_article_formatted_deepseek_v3_path = long_article_directory / \"deepseek_v3.md\"\n",
    "long_article_formatted_deepseek_v3_path.write_text(long_article_formatted_deepseek_v3, encoding=\"utf-8\")"
   ],
   "id": "e055948d15d965db",
   "outputs": [
    {
     "data": {
      "text/plain": [
       "64183"
      ]
     },
     "execution_count": 42,
     "metadata": {},
     "output_type": "execute_result"
    }
   ],
   "execution_count": 42
  }
 ],
 "metadata": {
  "kernelspec": {
   "display_name": "Python 3",
   "language": "python",
   "name": "python3"
  },
  "language_info": {
   "codemirror_mode": {
    "name": "ipython",
    "version": 2
   },
   "file_extension": ".py",
   "mimetype": "text/x-python",
   "name": "python",
   "nbconvert_exporter": "python",
   "pygments_lexer": "ipython2",
   "version": "2.7.6"
  }
 },
 "nbformat": 4,
 "nbformat_minor": 5
}
