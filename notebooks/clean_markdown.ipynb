{
 "cells": [
  {
   "cell_type": "code",
   "id": "initial_id",
   "metadata": {
    "collapsed": true,
    "ExecuteTime": {
     "end_time": "2025-01-20T22:02:44.662940Z",
     "start_time": "2025-01-20T22:02:44.648770Z"
    }
   },
   "source": [
    "from pathlib import Path\n",
    "from wikipedia_markdown.utils.yaml import load_yaml\n",
    "from wikipedia_markdown.utils.database import get_rows_from_ids\n",
    "\n",
    "# Set the base path\n",
    "base_path = Path(\"../\")  # One level up from the current working directory\n",
    "\n",
    "# Load the YAML configuration\n",
    "config_path = base_path / \"run_config.yaml\"\n",
    "config = load_yaml(config_path)\n",
    "\n",
    "# Construct the full path to the database file\n",
    "data_folder = base_path / config[\"data_folder\"]\n",
    "db_file = config[\"db_file\"]\n",
    "db_path = data_folder / db_file\n",
    "\n",
    "# Print the database path for verification\n",
    "print(f\"Database path: {db_path}\")\n",
    "\n",
    "# Check if the database file exists\n",
    "if db_path.exists():\n",
    "    print(\"Database file exists.\")\n",
    "else:\n",
    "    print(\"Database file does not exist.\")"
   ],
   "outputs": [
    {
     "name": "stdout",
     "output_type": "stream",
     "text": [
      "Database path: ../data/database.db\n",
      "Database file exists.\n"
     ]
    }
   ],
   "execution_count": 16
  },
  {
   "metadata": {
    "ExecuteTime": {
     "end_time": "2025-01-20T22:02:44.737203Z",
     "start_time": "2025-01-20T22:02:44.729721Z"
    }
   },
   "cell_type": "code",
   "source": [
    "article_id = 61541 # Bobby Robson\n",
    "# article_id = 17 # Adobe Illustrator\n",
    "# article_id = 1\n",
    "\n",
    "rows = get_rows_from_ids(\n",
    "    db_path=db_path,\n",
    "    ids=[article_id],\n",
    ")\n",
    "\n",
    "article = rows[0]\n",
    "print(f\"Article found: {rows[0]['title']}\")"
   ],
   "id": "c6553d667aff9760",
   "outputs": [
    {
     "name": "stdout",
     "output_type": "stream",
     "text": [
      "Article found: Bobby Robson\n"
     ]
    }
   ],
   "execution_count": 17
  },
  {
   "metadata": {
    "ExecuteTime": {
     "end_time": "2025-01-20T22:02:44.755324Z",
     "start_time": "2025-01-20T22:02:44.753299Z"
    }
   },
   "cell_type": "code",
   "source": "# print(article[\"markdown_text\"])",
   "id": "e018d56e85294da9",
   "outputs": [],
   "execution_count": 18
  },
  {
   "metadata": {
    "ExecuteTime": {
     "end_time": "2025-01-20T22:02:45.159927Z",
     "start_time": "2025-01-20T22:02:44.765316Z"
    }
   },
   "cell_type": "code",
   "source": [
    "from wikipedia_markdown.clean_markdown.openrouter import clean_long_text, clean_text\n",
    "from transformers import AutoTokenizer\n",
    "from dotenv import load_dotenv\n",
    "from os import getenv\n",
    "\n",
    "# Load Local environment variables (OpenRouter API Key)\n",
    "load_dotenv()\n",
    "\n",
    "huggingface_token = getenv(\"HUGGINGFACE_TOKEN\")\n",
    "\n",
    "model_openrouter = \"deepseek/deepseek-chat\"\n",
    "model_hf = \"deepseek-ai/DeepSeek-V3\"\n",
    "\n",
    "# model_openrouter = \"mistralai/mistral-nemo\"\n",
    "# model_hf = \"mistralai/Mistral-Nemo-Instruct-2407\"\n",
    "\n",
    "# model_openrouter = \"openai/gpt-4o-mini\"\n",
    "# model_hf = \"Xenova/gpt-4o\"\n",
    "\n",
    "tokenizer = AutoTokenizer.from_pretrained(model_hf, token=huggingface_token)\n",
    "\n",
    "prompts = load_yaml(base_path / \"prompts.yaml\")"
   ],
   "id": "7b0adb23e75852d5",
   "outputs": [],
   "execution_count": 19
  },
  {
   "metadata": {
    "ExecuteTime": {
     "end_time": "2025-01-20T22:02:45.196972Z",
     "start_time": "2025-01-20T22:02:45.194736Z"
    }
   },
   "cell_type": "code",
   "source": "article[\"markdown_text_tokens\"]",
   "id": "c71e82feb8d4362c",
   "outputs": [
    {
     "data": {
      "text/plain": [
       "1057"
      ]
     },
     "execution_count": 20,
     "metadata": {},
     "output_type": "execute_result"
    }
   ],
   "execution_count": 20
  },
  {
   "metadata": {
    "ExecuteTime": {
     "end_time": "2025-01-20T22:03:10.821009Z",
     "start_time": "2025-01-20T22:02:45.208017Z"
    }
   },
   "cell_type": "code",
   "source": [
    "if article[\"markdown_text_tokens\"] > 5000:\n",
    "    # print(\"Long article\\n\")\n",
    "    article_formatted = clean_long_text(\n",
    "        model_openrouter=model_openrouter,\n",
    "        text=article[\"markdown_text\"],\n",
    "        template=prompts[\"clean_markdown\"],\n",
    "        tokenizer=tokenizer,\n",
    "        max_tokens=7000,  # Max 8k, but we have a prompt\n",
    "    )\n",
    "else:\n",
    "    # print(\"Short article\\n\")\n",
    "    article_formatted = clean_text(\n",
    "        model_openrouter=model_openrouter,\n",
    "        text=article[\"markdown_text\"],\n",
    "        template=prompts[\"clean_markdown\"],\n",
    "    )\n",
    "\n",
    "print(article_formatted)"
   ],
   "id": "71efff76f157ef7c",
   "outputs": [
    {
     "name": "stdout",
     "output_type": "stream",
     "text": [
      "# Bobby Robson\n",
      "\n",
      "Sir Robert William \"Bobby\" Robson (18 February 1933 – 31 July 2009) was an English association footballer and football team manager. As a player, he played almost 600 games and scored over 100 goals. He also played for the England national team. He scored four goals in 20 games for them.\n",
      "\n",
      "Robson managed Fulham F.C. and Ipswich Town F.C. (F.C. means football club). He then managed the England national football team for eight years, from 1982 to 1990. He led England to the semi-finals of the World Cup in 1990. He left England to manage other football teams in Europe. These included clubs from The Netherlands, Portugal, and Spain. Robson came back to England to manage Newcastle United F.C. in 1999.\n",
      "\n",
      "Robson was diagnosed with lung cancer in 2007. It was described as terminal. With no hope of recovery, two years later, he died in the year 2009.\n",
      "\n",
      "## Early life\n",
      "\n",
      "Robson was born on 18 February 1933 in Sacriston, County Durham. He was the fourth of five brothers. As a young child, he often went to St James' Park with his father to watch Newcastle United F.C.\n",
      "\n",
      "When he was only 15, Robson played football in a local team of boys aged 18. He became an apprentice electrician while still playing football. In 1950, the Fulham F.C. manager, Bill Dodgin, Sr., visited Robson's home. He offered Robson a contract to play professional football. Robson signed the contract and moved to London.\n",
      "\n",
      "## Playing career\n",
      "\n",
      "### Club football\n",
      "\n",
      "Robson played in his first professional football game for Fulham F.C. in 1950. He spent six years at the club before moving to West Bromwich Albion for £25,000. He played for Albion for six years. During that time, he played in nearly 250 games, scoring over 50 goals. Albion said no when Robson asked for a bigger salary, and he moved back to Fulham. Fulham sold some important players after Robson came back to the team. This led Robson to think he would not win any trophies. He left Fulham in 1967 and joined the Vancouver Royals in Canada as both a player and a manager. However, he had to share the management role with someone else. Robson did not like this and moved back to England in 1968. He started to manage Fulham.\n",
      "\n",
      "### International football\n",
      "\n",
      "Robson was selected for England while at West Bromwich Albion. He played for England in the 1958 FIFA World Cup. He was selected for the 1962 FIFA World Cup. Due to injury in a friendly against Chile, Robson was forced to leave the squad. In total, he played 20 times for his country.\n",
      "\n",
      "## Managerial career\n",
      "\n",
      "### Early club management\n",
      "\n",
      "Robson started his career as a manager at Fulham F.C. The team were relegated in his first season there. Robson was sacked the following season. In 1969, he became manager of Ipswich Town F.C. However, he won no major competitions or trophies during his first four years in charge. In 1973, Ipswich won the Texaco Cup.\n",
      "\n",
      "Over the next nine seasons in the First Division, only once did Ipswich finish lower than the sixth place. This was the 1977–78 season; however, the club then went on to win the FA Cup, beating Arsenal F.C. 1–0 at Wembley. Three years later, Robson led Ipswich to victory in the UEFA Cup. The club beat Dutch team AZ Alkmaar 5–4 over two games. Robson moved on to manage the England national football team in 1982.\n",
      "\n",
      "### England national team\n",
      "\n",
      "Robson managed the England team 95 times, with 47 victories. In the 1986 FIFA World Cup in Mexico, he led the team to the quarter-finals where they lost to Argentina 2–1. Both Argentina goals were scored by Diego Maradona, including the famous \"Hand of God\" goal. Four years later, in the 1990 FIFA World Cup, Robson led England into the semi-finals. This time they lost to West Germany in a penalty shoot-out. After this World Cup, Robson's contract was not extended by the Football Association.\n",
      "\n",
      "### European club management\n",
      "\n",
      "Robson joined Dutch club P.S.V. Eindhoven in 1990. They won the league in his first two seasons. However, they did not win any European competitions, and in 1992, Robson lost his job. Robson joined Portuguese club Sporting Clube de Portugal in July 1992. He led them to third place in the league in his first season. Defeat in Europe meant Robson lost his job again, in December 1994.\n"
     ]
    }
   ],
   "execution_count": 21
  },
  {
   "metadata": {
    "ExecuteTime": {
     "end_time": "2025-01-20T22:03:10.848592Z",
     "start_time": "2025-01-20T22:03:10.845777Z"
    }
   },
   "cell_type": "code",
   "source": "print(article[\"markdown_text\"])",
   "id": "85ca0acd09d4df94",
   "outputs": [
    {
     "name": "stdout",
     "output_type": "stream",
     "text": [
      "\n",
      "# Bobby Robson\n",
      "\n",
      "Sir Robert William \"Bobby\" Robson  (18 February 1933 – 31 July 2009) was an English association footballer and football team manager. As a player, he played almost 600 games and scored over 100 goals. He also played for the England national team. He scored four goals in 20 games for them.\n",
      "\n",
      "Robson managed Fulham F.C. and Ipswich Town F.C.. (F.C. means football club). He then managed the England national football team for eight years, from 1982 to 1990.  He led England to the semi-finals of the World Cup in 1990.  He left England to manage other football teams in Europe.  These included clubs from The Netherlands, Portugal and Spain.  Robson came back to England to manage Newcastle United F.C. in 1999.\n",
      "\n",
      "Robson was diagnosed with lung cancer in 2007. It was described as terminal. With no hope of recovery, two years later, he died in the year 2009. \n",
      "## Early life\n",
      "\n",
      "Robson was born on 18 February 1933 in Sacriston, County Durham.  He was the fourth of five brothers.  As a young child he often went to St James' Park with his father to watch Newcastle United F.C.\n",
      "\n",
      "When he was only 15, Robson played football in a local team of boys aged 18.  He became an apprentice electrician while still playing football.  In 1950, the Fulham F.C. manager, Bill Dodgin, Sr., visited Robson's home.  He offered Robson a contract to play professional football.  Robson signed the contract and moved to London.\n",
      "## Playing career\n",
      "### Club football\n",
      "Robson played in his first professional football game for Fulham F.C. in 1950.  He spent six years at the club before moving to West Bromwich Albion for £25,000.  He played for Albion for six years. During that time, he played in nearly 250 games, scoring over 50 goals.  Albion said no when Robson asked for a bigger salary, and he moved back to Fulham.  Fulham sold some important players after Robson came back to the team.  This led Robson to think he would not win any trophies. He left Fulham in 1967 and joined the Vancouver Royals in Canada as both a player and a manager. However, he had to share the management role with someone else.  Robson did not like this and moved back to England in 1968.  He started to manage Fulham.\n",
      "### International football\n",
      "\n",
      "Robson was selected for England while at West Bromwich Albion.  He played for England in the 1958 FIFA World Cup. He was selected for the 1962 FIFA World Cup.  Due to injury in a friendly against Chile, Robson was forced to leave the squad.  In total, he played 20 times for his country.\n",
      "## Managerial career\n",
      "### Early club management\n",
      "\n",
      "Robson started his career as a manager at Fulham F.C.  The team were relegated in his first season there. Robson was sacked the following season.  In 1969 he became manager of Ipswich Town F.C.  However he won no major competitions or trophies during his first four years in charge.  In 1973 Ipswich won the Texaco Cup.\n",
      "\n",
      "Over the next nine seasons in the First Division, only once did Ipswich finish lower than the sixth place. This was the 1977–78 season however the club then went on to win the FA Cup, beating Arsenal F.C. 1–0 at Wembley.  Three years later, Robson led Ipswich to victory in the UEFA Cup. The club beat Dutch team AZ Alkmaar 5–4 over two games.  Robson moved on to manage the England national football team in 1982.\n",
      "### England national team\n",
      "\n",
      "Robson managed the England team 95 times, with 47 victories.  In the 1986 FIFA World Cup in Mexico, he led the team to the quarter-finals where they lost to Argentina 2–1.  Both Argentina goals were scored by Diego Maradona, including the famous \"Hand of God\" goal.  Four years later, in the 1990 FIFA World Cup, Robson led England into the semi-finals.  This time they lost to West Germany in a penalty shoot-out.  After this World Cup, Robson's contract was not extended by the Football Association.\n",
      "### European club management\n",
      "\n",
      "Robson joined Dutch club P.S.V. Eindhoven in 1990.  They won the league in his first two seasons.  However, they did not win any European competitions, and in 1992, Robson lost his job.  Robson joined Portuguese club Sporting Clube de Portugal in July 1992.  He led them to third place in the league in his first season.  Defeat in Europe meant Robson lost his job again, in December 1994.\n"
     ]
    }
   ],
   "execution_count": 22
  }
 ],
 "metadata": {
  "kernelspec": {
   "display_name": "Python 3",
   "language": "python",
   "name": "python3"
  },
  "language_info": {
   "codemirror_mode": {
    "name": "ipython",
    "version": 2
   },
   "file_extension": ".py",
   "mimetype": "text/x-python",
   "name": "python",
   "nbconvert_exporter": "python",
   "pygments_lexer": "ipython2",
   "version": "2.7.6"
  }
 },
 "nbformat": 4,
 "nbformat_minor": 5
}
