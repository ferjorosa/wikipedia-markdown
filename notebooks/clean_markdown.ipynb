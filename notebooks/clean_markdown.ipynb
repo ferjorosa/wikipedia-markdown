{
 "cells": [
  {
   "cell_type": "code",
   "id": "initial_id",
   "metadata": {
    "collapsed": true,
    "ExecuteTime": {
     "end_time": "2025-01-18T17:13:57.194642Z",
     "start_time": "2025-01-18T17:13:57.186249Z"
    }
   },
   "source": [
    "from pathlib import Path\n",
    "from wikipedia_markdown.utils.yaml import load_yaml\n",
    "from wikipedia_markdown.utils.database import get_rows_from_ids\n",
    "\n",
    "# Set the base path\n",
    "base_path = Path(\"../\")  # One level up from the current working directory\n",
    "\n",
    "# Load the YAML configuration\n",
    "config_path = base_path / \"run_config.yaml\"  # Path to run_config.yaml\n",
    "config = load_yaml(config_path)\n",
    "\n",
    "# Construct the full path to the database file\n",
    "data_folder = base_path / config[\"data_folder\"]  # Path to the data folder\n",
    "db_file = config[\"db_file\"]  # Database file name\n",
    "db_path = data_folder / db_file  # Full path to the database file\n",
    "\n",
    "# Print the database path for verification\n",
    "print(f\"Database path: {db_path}\")\n",
    "\n",
    "# Check if the database file exists\n",
    "if db_path.exists():\n",
    "    print(\"Database file exists.\")\n",
    "else:\n",
    "    print(\"Database file does not exist. Initializing the database...\")\n",
    "    from wikipedia_markdown.utils.database import initialize_db\n",
    "    initialize_db(db_path)  # Initialize the database if it doesn't exist"
   ],
   "outputs": [
    {
     "name": "stdout",
     "output_type": "stream",
     "text": [
      "Database path: ../data/database.db\n",
      "Database file exists.\n"
     ]
    }
   ],
   "execution_count": 22
  },
  {
   "metadata": {
    "ExecuteTime": {
     "end_time": "2025-01-18T17:36:35.223958Z",
     "start_time": "2025-01-18T17:36:35.218374Z"
    }
   },
   "cell_type": "code",
   "source": [
    "# article_id = 61541 # Bobby Robson\n",
    "# article_id = 17 # Adobe Illustrator\n",
    "article_id = 1\n",
    "\n",
    "rows = get_rows_from_ids(\n",
    "    db_path=db_path,\n",
    "    ids=[article_id],\n",
    ")\n",
    "\n",
    "article = rows[0]\n",
    "print(f\"Article found: {rows[0]['title']}\")"
   ],
   "id": "c6553d667aff9760",
   "outputs": [
    {
     "name": "stdout",
     "output_type": "stream",
     "text": [
      "Article found: April\n"
     ]
    }
   ],
   "execution_count": 39
  },
  {
   "metadata": {
    "ExecuteTime": {
     "end_time": "2025-01-18T16:39:40.015986Z",
     "start_time": "2025-01-18T16:39:40.012963Z"
    }
   },
   "cell_type": "code",
   "source": "# print(article[\"markdown_text\"])",
   "id": "e018d56e85294da9",
   "outputs": [],
   "execution_count": 6
  },
  {
   "metadata": {
    "ExecuteTime": {
     "end_time": "2025-01-18T17:36:37.790425Z",
     "start_time": "2025-01-18T17:36:37.404347Z"
    }
   },
   "cell_type": "code",
   "source": [
    "from wikipedia_markdown.clean_markdown import clean_long_text, clean_text\n",
    "from transformers import AutoTokenizer\n",
    "from dotenv import load_dotenv\n",
    "from os import getenv\n",
    "\n",
    "# Load Local environment variables (OpenRouter API Key)\n",
    "load_dotenv()\n",
    "\n",
    "huggingface_token = getenv(\"HUGGINGFACE_TOKEN\")\n",
    "\n",
    "# model_openrouter = \"deepseek/deepseek-chat\"\n",
    "# model_hf = \"deepseek-ai/DeepSeek-V3\"\n",
    "\n",
    "# model_openrouter = \"mistralai/mistral-nemo\"\n",
    "# model_hf = \"mistralai/Mistral-Nemo-Instruct-2407\"\n",
    "\n",
    "model_openrouter = \"openai/gpt-4o-mini\"\n",
    "model_hf = \"Xenova/gpt-4o\"\n",
    "\n",
    "tokenizer = AutoTokenizer.from_pretrained(model_hf, token=huggingface_token)\n",
    "\n",
    "prompts = load_yaml(base_path / \"prompts.yaml\")"
   ],
   "id": "7b0adb23e75852d5",
   "outputs": [],
   "execution_count": 40
  },
  {
   "metadata": {
    "ExecuteTime": {
     "end_time": "2025-01-18T17:36:40.088305Z",
     "start_time": "2025-01-18T17:36:40.085457Z"
    }
   },
   "cell_type": "code",
   "source": "article[\"markdown_text_tokens\"]",
   "id": "c71e82feb8d4362c",
   "outputs": [
    {
     "data": {
      "text/plain": [
       "4246"
      ]
     },
     "execution_count": 41,
     "metadata": {},
     "output_type": "execute_result"
    }
   ],
   "execution_count": 41
  },
  {
   "metadata": {
    "ExecuteTime": {
     "end_time": "2025-01-18T17:42:32.068290Z",
     "start_time": "2025-01-18T17:36:41.501926Z"
    }
   },
   "cell_type": "code",
   "source": [
    "if article[\"markdown_text_tokens\"] > 5000:\n",
    "    # print(\"Long article\\n\")\n",
    "    article_formatted = clean_long_text(\n",
    "        model_openrouter=model_openrouter,\n",
    "        text=article[\"markdown_text\"],\n",
    "        template=prompts[\"clean_markdown_2\"],\n",
    "        tokenizer=tokenizer,\n",
    "        max_tokens=7000,  # Max 8k, but we have a prompt\n",
    "    )\n",
    "else:\n",
    "    # print(\"Short article\\n\")\n",
    "    article_formatted = clean_text(\n",
    "        model_openrouter=model_openrouter,\n",
    "        text=article[\"markdown_text\"],\n",
    "        template=prompts[\"clean_markdown_2\"],\n",
    "    )\n",
    "\n",
    "print(article_formatted)"
   ],
   "id": "71efff76f157ef7c",
   "outputs": [
    {
     "name": "stderr",
     "output_type": "stream",
     "text": [
      "Exception ignored in: <bound method IPythonKernel._clean_thread_parent_frames of <ipykernel.ipkernel.IPythonKernel object at 0x1072b38e0>>\n",
      "Traceback (most recent call last):\n",
      "  File \"/Users/fernando/Documents/GitHub/wikipedia-markdown/.venv/lib/python3.10/site-packages/ipykernel/ipkernel.py\", line 775, in _clean_thread_parent_frames\n",
      "    def _clean_thread_parent_frames(\n",
      "KeyboardInterrupt: \n",
      "\n",
      "KeyboardInterrupt\n",
      "\n"
     ]
    }
   ],
   "execution_count": 42
  },
  {
   "metadata": {
    "ExecuteTime": {
     "end_time": "2025-01-18T17:25:32.884331Z",
     "start_time": "2025-01-18T17:25:32.882005Z"
    }
   },
   "cell_type": "code",
   "source": "print(article[\"markdown_text\"])",
   "id": "85ca0acd09d4df94",
   "outputs": [
    {
     "name": "stdout",
     "output_type": "stream",
     "text": [
      "\n",
      "# Adobe Illustrator\n",
      "\n",
      "Adobe Illustrator is a computer program for making graphic design and illustrations. It is made by Adobe Systems. Pictures created in Adobe Illustrator can be made bigger or smaller, and look exactly the same at any size. It works well with the rest of the products with the Adobe name.\n",
      "## History\n",
      "\n",
      "It was first released in 1986 for the Apple Macintosh. The latest version is Adobe Illustrator 2024, part of Adobe Creative Cloud.\n",
      "## Release history\n",
      "\n",
      "<table><tr><td> Version </td><td> Platforms </td><td> Release date </td><td> Code name\n",
      "</td></tr><tr><td> 1.0 </td><td> Mac OS </td><td> January 1987 </td><td>  Picasso\n",
      "</td></tr><tr><td> 1.1 </td><td> Mac OS </td><td> 19 March 1987 </td><td> Inca\n",
      "</td></tr><tr><td> 88 </td><td> Mac OS </td><td> March 1988 </td><td>\n",
      "</td></tr><tr><td> 2.0 </td><td> Windows </td><td> January 1989 </td><td> Pinnacle\n",
      "</td></tr><tr><td> 3 </td><td> Mac OS, NeXT, other Unices </td><td> October 1990 </td><td> Desert Moose\n",
      "</td></tr><tr><td> 3.5 </td><td> Silicon Graphics </td><td> 1991 </td><td>\n",
      "</td></tr><tr><td> 4 </td><td> Windows </td><td> May 1992 </td><td> Kangaroose\n",
      "</td></tr><tr><td> 3.5 </td><td> Solaris </td><td> 1993 </td><td>\n",
      "</td></tr><tr><td> 5 </td><td> Mac OS </td><td> June 1993 </td><td> Saturn\n",
      "</td></tr><tr><td> 5.5 </td><td> Mac OS, Solaris </td><td> June 1994 </td><td> Janus\n",
      "</td></tr><tr><td> 4.1 </td><td> Windows </td><td> 1995 </td><td>\n",
      "</td></tr><tr><td> 6 </td><td> Mac OS </td><td> February 1996 </td><td> Popeye\n",
      "</td></tr><tr><td> 7 </td><td> Mac/Windows </td><td> May 1997 </td><td> Simba\n",
      "</td></tr><tr><td> 8 </td><td> Mac/Windows </td><td> September 1998 </td><td> Elvis\n",
      "</td></tr><tr><td> 9 </td><td> Mac/Windows </td><td> June 2000 </td><td> Matisse\n",
      "</td></tr><tr><td> 10 </td><td> Mac/Windows </td><td> November 2001 </td><td> Paloma\n",
      "</td></tr><tr><td> CS (11) </td><td> Mac/Windows </td><td> October 2003 </td><td> Pangaea/Sprinkles\n",
      "</td></tr><tr><td> CS2 (12, 12.0.1) </td><td> Mac/Windows </td><td> 27 April 2005 </td><td> Zodiac\n",
      "</td></tr><tr><td> CS3 (13) </td><td> Mac/Windows </td><td> April 2007 </td><td> Jason\n",
      "</td></tr><tr><td>CS4 (14)\n",
      "</td><td>Mac/Windows\n",
      "</td><td>October 2008\n",
      "</td><td>\n",
      "</td></tr><tr><td>CS5 (15)\n",
      "</td><td>Mac/Windows\n",
      "</td><td>April 2010\n",
      "</td><td>\n",
      "</td></tr><tr><td>CS6 (16)\n",
      "</td><td>Mac/Windows\n",
      "</td><td>April 2012\n",
      "</td><td>\n",
      "</td></tr><tr><td>CC (17-28.4.1/2013-2024)\n",
      "</td><td>Mac/Windows\n",
      "</td><td>May 2013\n",
      "</td><td>\n",
      "</td></tr></table>\n",
      "## References\n",
      "\n",
      "Category:Vector graphics editors\n",
      "Category:Adobe software\n",
      "\n",
      "\n"
     ]
    }
   ],
   "execution_count": 35
  }
 ],
 "metadata": {
  "kernelspec": {
   "display_name": "Python 3",
   "language": "python",
   "name": "python3"
  },
  "language_info": {
   "codemirror_mode": {
    "name": "ipython",
    "version": 2
   },
   "file_extension": ".py",
   "mimetype": "text/x-python",
   "name": "python",
   "nbconvert_exporter": "python",
   "pygments_lexer": "ipython2",
   "version": "2.7.6"
  }
 },
 "nbformat": 4,
 "nbformat_minor": 5
}
