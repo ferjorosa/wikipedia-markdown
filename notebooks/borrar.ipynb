{
 "cells": [
  {
   "cell_type": "code",
   "id": "initial_id",
   "metadata": {
    "collapsed": true,
    "ExecuteTime": {
     "end_time": "2025-01-25T15:32:49.774342Z",
     "start_time": "2025-01-25T15:32:49.711126Z"
    }
   },
   "source": [
    "import jsonlines\n",
    "import json\n",
    "from pathlib import Path\n",
    "from wikipedia_markdown.utils.yaml import load_yaml\n",
    "\n",
    "# Set the base path\n",
    "base_path = Path(\"../\")  # Adjust this to your project structure\n",
    "\n",
    "# Load the YAML configuration\n",
    "config_path = base_path / \"config.yaml\"\n",
    "config = load_yaml(config_path)\n",
    "\n",
    "# Construct the full path to the batch input file\n",
    "output_path = base_path / config[\"openai_batch_job_files_path\"]\n",
    "file_path = output_path / \"batch_input_1.jsonl\"\n",
    "\n",
    "# Load the .jsonl file as a list of dictionaries\n",
    "with jsonlines.open(file_path) as reader:\n",
    "    items = list(reader)  # Convert the reader object to a list of dictionaries\n",
    "\n",
    "# Print the content of the first item\n",
    "if items:\n",
    "    # Extract the \"content\" from the first item\n",
    "    first_item = items[0]\n",
    "    content = first_item[\"body\"][\"messages\"][1][\"content\"]  # Navigate to the \"content\" field\n",
    "    print(content)\n",
    "else:\n",
    "    print(\"The file is empty.\")"
   ],
   "outputs": [
    {
     "name": "stdout",
     "output_type": "stream",
     "text": [
      "Clean the following markdown text while being **completely faithful to the original content**. Only make changes when explicitly required by the rules below:\n",
      "\n",
      "### Rules:\n",
      "1. **Remove Metadata**: Timestamps, non-content info (e.g., `[edit]`, `[update]`), or extraneous annotations.  \n",
      "2. **Remove Broken Links/Images**: Delete broken links, non-functional images, or media tags. Preserve valid links and images (e.g., Lund-04-Kathedrale-1975-gje.jpg).  \n",
      "3. **Remove Citations/References**: Inline citations (e.g., `[1]`, `[citation needed]`) and entire reference sections (e.g., `## References`).  \n",
      "4. **Remove Category Tags**: Wikipedia-style category tags (e.g., `Category:Basic English 850 words`).  \n",
      "5. **Remove Related Pages Section**: Entire sections titled \"Related Pages\" or similar.  \n",
      "6. **Remove Gallery Section**: Entire sections titled \"Gallery\" or similar, including image text (e.g., `Image:Saint Peter's Square.jpg`, `File:Transverse wave.png`).  \n",
      "7. **Handle HTML/XML Tags**: Remove HTML/XML tags but keep meaningful text. Preserve structural tags like `<table>`, `<td>`, and attributes like `rowspan`, `colspan`.  \n",
      "8. **Fix Redundant Whitespace**: Remove extra blank lines and unnecessary spaces, but preserve intentional spacing.\n",
      "9. **Separate Titles with One Blank Line**: Ensure that all section titles (e.g., ## Title) are followed by at least one blank line to improve readability and consistency.\n",
      "10. **Preserve Everything Else**: Do not modify headings, lists, code blocks, tables, or any other content unless it violates the above rules.\n",
      "\n",
      "### Important:\n",
      "- **Be Faithful**: Copy the text exactly as-is unless one of the above rules applies.\n",
      "- **No Unnecessary Changes**: Do not reformat, rephrase, or modify content unless explicitly required.\n",
      "- **Output**: Return only the cleaned markdown text without additional commentary or explanations.\n",
      "- **No Markdown Wrapping**: Do not wrap the output in ```markdown```, as the text is already in markdown format.\n",
      "\n",
      "### Text to Transform:\n",
      "# Mario Party 6\n",
      "\n",
      "Mario Party 6 is a party board video game for the Nintendo GameCube. It is the sixth game in the Mario Party series. It was released in Japan on November 18, 2004, in North America on December 6, 2004, and in Europe on March 18, 2005. It is the first Mario Party game to use the Nintendo GameCube's microphone add-on.\n",
      "## Gameplay\n",
      "\n",
      "Mario Party 6 plays the same as previous games in the Mario Party series. Players go around on boards to collect coins, which they can use to buy stars. Movement is done with the use of a dice block with the numbers one through 10. After all four players take their turns, a mini-game is played. The player who wins the mini-game wins coins. The winner is the player with the most stars at the end of the game. In multiplayer, the sun will rise and fall every three turns. Changes that happen include spaces moving, new characters appearing, and changes to mini-games.\n",
      "\n",
      "Six boards are in the game. The last one has to be unlocked. Players can play as 11 characters. One of them, Toadette, makes her first playable appearance in a Mario Party game in this game.\n",
      "\n",
      "Category:2004 video games\n",
      "Category:Mario Party games\n",
      "Category:Nintendo GameCube games\n",
      "Category:Nintendo GameCube-only games\n",
      "Category:Party video games\n",
      "Category:Video games developed in Japan\n"
     ]
    }
   ],
   "execution_count": 7
  },
  {
   "metadata": {
    "ExecuteTime": {
     "end_time": "2025-01-26T10:54:50.888244Z",
     "start_time": "2025-01-26T10:54:50.881588Z"
    }
   },
   "cell_type": "code",
   "source": [
    "text = \"\n",
    "\n",
    "=Kelvin=\n",
    "\n",
    "The Kelvin scale (symbol: K) is the SI unit of temperature. It is named in honour of the physicist William Thomson, the first Lord Kelvin (1824–1907).\n",
    "\n",
    "==Definition==\n",
    "\n",
    "thumb|Lord Kelvin\n",
    "The Kelvin scale is defined by a specific relationship between the pressure of a gas and the temperature. This says that \"the pressure of the gas is directly proportional to the temperature in Kelvin\". This means that Kelvin is an absolute temperature scale, and scientists use this scale more than any other.\n",
    "\n",
    "The kelvin is a base SI unit of measurement, since 2018 defined by setting the fixed numerical value of the Boltzmann constant k to 1.380649×10 J⋅K.\n",
    "\n",
    "The temperature of the triple point of water is a hundredth of a degree Celsius above the freezing point, or 0.01 °C. The coldest possible temperature is called absolute zero and is equal to -273.15 degrees Celsius, or zero kelvin (0 K). By writing temperatures in kelvins one does not need to use negative numbers.\n",
    "\n",
    "The absolute temperature scale was designed so that a change in temperature of 1 kelvin is equal to a change of 1 degree Celsius. This means that it is easy to convert a temperature from degrees Celsius to kelvin.\n",
    "* To change a temperature in degrees Celsius into Kelvins you must add 273.15 units. For example, 0 degrees Celsius (0 °C), which is the temperature at which water freezes, is 273.15 kelvins (273.15 K).\n",
    "* To change a temperature in Kelvins into degrees Celsius you must subtract 273.15 units. For example, 310 kelvins is 36.85 degrees Celsius, which is roughly the normal temperature of a human body.\n",
    "\n",
    "It is important to notice that the name of this unit is simply kelvin (with a lowercase initial), not \"degree Kelvin\". In English, it undergoes normal plural inflection as kelvins. For example, the boiling point of liquid nitrogen is 77 kelvins.\n",
    "\n",
    "In everyday use, the kelvin is most commonly used to measure very low or very high temperatures, such as the temperature of liquid nitrogen or the temperature of a light bulb filament.\n",
    "\n",
    "The rankine (or degree Rankine) is a related absolute temperature scale, but based on the degree Fahrenheit rather than the degree Celsius.\n",
    "\n",
    "==References==\n",
    "\n",
    "==Related pages==\n",
    "\n",
    "* Temperature\n",
    "* Celsius\n",
    "\n",
    "Category:SI units\n",
    "Category:Units of temperature\"\n",
    "print(text)"
   ],
   "id": "814df5380030c847",
   "outputs": [
    {
     "name": "stdout",
     "output_type": "stream",
     "text": [
      "# 1892\n",
      "\n",
      "## Births\n",
      "\n",
      "* January 3 – J. R. R. Tolkien\n",
      "* February 10 - Alan Hale Sr., American actor (d. 1950)\n",
      "* July 23 – Haile Selassie I, Emperor of Ethiopia\n",
      "* Sir Sikandar Hayat Khan, British Indian statesman and leader of the Punjab.\n",
      "\n",
      "## Art, music, theatre, and literature\n",
      "\n",
      "* December 17 – Tchaikovsky's The Nutcracker premieres in St Petersburg.\n"
     ]
    }
   ],
   "execution_count": 1
  }
 ],
 "metadata": {
  "kernelspec": {
   "display_name": "Python 3",
   "language": "python",
   "name": "python3"
  },
  "language_info": {
   "codemirror_mode": {
    "name": "ipython",
    "version": 2
   },
   "file_extension": ".py",
   "mimetype": "text/x-python",
   "name": "python",
   "nbconvert_exporter": "python",
   "pygments_lexer": "ipython2",
   "version": "2.7.6"
  }
 },
 "nbformat": 4,
 "nbformat_minor": 5
}
