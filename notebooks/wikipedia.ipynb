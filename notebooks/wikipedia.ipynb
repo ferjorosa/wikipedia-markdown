{
 "cells": [
  {
   "cell_type": "code",
   "id": "initial_id",
   "metadata": {
    "collapsed": true,
    "ExecuteTime": {
     "end_time": "2025-01-30T09:56:54.449046Z",
     "start_time": "2025-01-30T09:56:54.071614Z"
    }
   },
   "source": [
    "import wikipediaapi\n",
    "\n",
    "# Initialize for Simple English Wikipedia (correctly uses 'simple' language code)\n",
    "wiki_wiki = wikipediaapi.Wikipedia(\n",
    "    language='simple',\n",
    "    user_agent=\"YourAppName/1.0 (your@email.com)\"  # Add a user-agent to avoid potential blocking\n",
    ")\n",
    "\n",
    "page = wiki_wiki.page(\"Tulle\")\n",
    "\n",
    "if page.exists():\n",
    "    print(\"Title:\", page.title)\n",
    "    print(\"Text Excerpt:\", page.text)  # Print first 200 characters to verify\n",
    "else:\n",
    "    print(\"Page does not exist on Simple English Wikipedia.\")"
   ],
   "outputs": [
    {
     "name": "stderr",
     "output_type": "stream",
     "text": [
      "Used language 'simple' is longer than 5. It is suspicious\n"
     ]
    },
    {
     "name": "stdout",
     "output_type": "stream",
     "text": [
      "Title: Tulle\n",
      "Text Excerpt: Tulle (Occitan: Tula) is a French commune, the prefecture of the Corrèze department in central France. It is in the Nouvelle-Aquitaine region. It is also the capital of the arrondissement of Tulle.\n",
      "\n",
      "Geography\n",
      "Tulle is in the valley of the Corrèze river at the confluence of this river with several tributaries: the Solane and the Céronne on the right side, and Saint-Bonnette and Montane on the left side. The city is in narrow part of the valley along several Kilometres.\n",
      "The commune of Tulle has an area of 24.4 km2 (9.4 sq mi), and its average altitude is 323 m (1,060 ft); at the city hall, the altitude is 620 m (2,030 ft).\n",
      "\n",
      "The commune of Tulle is surrounded by the communes:\n",
      "\n",
      "Three rivers flow through the communeː the river Diège (the town sometimes is called Ussel-sur-Diège), the river Sarsonne and the stream Étang Roux.\n",
      "\n",
      "Climate\n",
      "The climate of Tulle, in the Köppen climate classification, is Cfb - Oceanic climate with template summers.\n",
      "\n",
      "Population\n",
      "The inhabitants of this city are known, in French, as Tullistes.\n",
      "With a population of 14,325, Tulle has a population density of 586 inhabitants/km2.\n",
      "\n",
      "Evolution of the population in Tulle\n",
      "\n",
      "Tulle forms, together with other 7 communes, the urban area of Tulle with a population of 21,108 inhabitants (2013) and an area of 119.7 km2 (46.2 sq mi). This urban area is the centre of the metropolitan area of Tulle, formed by 25 communes, with a population of 30,970 inhabitants (2013) and an area of 417.5 km2 (161.2 sq mi).\n",
      "\n",
      "Administration\n",
      "Tulle is the prefecture of the Corrèze department, the capital of the arrondissement of Tulle and the administrative centre (French: chef-lieu) of the canton of Tulle.\n",
      "It is part of the intercommunality Tulle Agglo (French: Communauté d'agglomération Tulle Agglo).\n",
      "\n",
      "Twinned and partner towns\n",
      "Tulle is twinned with:\n",
      "\n",
      " Schorndorf, Germany\n",
      " Errenteria, Spain\n",
      " Bury, England, United Kingdom\n",
      " Lousada, Portugal\n",
      " Smolensk, Russia\n",
      " Dueville, Italy\n",
      "\n",
      "Gallery\n",
      "Related pages\n",
      "Arrondissement of Tulle\n",
      "Communes of the Corrèze department\n",
      "Tulle massacre\n",
      "\n",
      "References\n",
      "Other websites\n",
      "\n",
      "Mairie de Tulle website (in French)\n",
      "Office de Tourisme Intercommunal Tulle et Cœur de Corrèze\n"
     ]
    }
   ],
   "execution_count": 4
  }
 ],
 "metadata": {
  "kernelspec": {
   "display_name": "Python 3",
   "language": "python",
   "name": "python3"
  },
  "language_info": {
   "codemirror_mode": {
    "name": "ipython",
    "version": 2
   },
   "file_extension": ".py",
   "mimetype": "text/x-python",
   "name": "python",
   "nbconvert_exporter": "python",
   "pygments_lexer": "ipython2",
   "version": "2.7.6"
  }
 },
 "nbformat": 4,
 "nbformat_minor": 5
}
