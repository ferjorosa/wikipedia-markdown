{
 "cells": [
  {
   "cell_type": "code",
   "id": "initial_id",
   "metadata": {
    "collapsed": true,
    "ExecuteTime": {
     "end_time": "2025-01-11T17:51:38.636394Z",
     "start_time": "2025-01-11T17:51:37.352911Z"
    }
   },
   "source": [
    "import pandas as pd\n",
    "\n",
    "df = pd.read_parquet(\"/Users/fernando/Documents/GitHub/wikipedia-markdown/data/parsed/articles.parquet\")"
   ],
   "outputs": [],
   "execution_count": 2
  },
  {
   "metadata": {
    "ExecuteTime": {
     "end_time": "2025-01-11T17:51:47.590572Z",
     "start_time": "2025-01-11T17:51:47.516911Z"
    }
   },
   "cell_type": "code",
   "source": "df[df[\"title\"].str.contains(\"Provinces and territories of\")]",
   "id": "e61cfb0391ea7578",
   "outputs": [
    {
     "data": {
      "text/plain": [
       "                                   title  \\\n",
       "217  Provinces and territories of Canada   \n",
       "\n",
       "                                                  text   id  \\\n",
       "217  = Provinces and territories of Canada =\\n\\n\\n\\...  431   \n",
       "\n",
       "                                                   url  \n",
       "217  https://simple.wikipedia.org/wiki/Provinces_an...  "
      ],
      "text/html": [
       "<div>\n",
       "<style scoped>\n",
       "    .dataframe tbody tr th:only-of-type {\n",
       "        vertical-align: middle;\n",
       "    }\n",
       "\n",
       "    .dataframe tbody tr th {\n",
       "        vertical-align: top;\n",
       "    }\n",
       "\n",
       "    .dataframe thead th {\n",
       "        text-align: right;\n",
       "    }\n",
       "</style>\n",
       "<table border=\"1\" class=\"dataframe\">\n",
       "  <thead>\n",
       "    <tr style=\"text-align: right;\">\n",
       "      <th></th>\n",
       "      <th>title</th>\n",
       "      <th>text</th>\n",
       "      <th>id</th>\n",
       "      <th>url</th>\n",
       "    </tr>\n",
       "  </thead>\n",
       "  <tbody>\n",
       "    <tr>\n",
       "      <th>217</th>\n",
       "      <td>Provinces and territories of Canada</td>\n",
       "      <td>= Provinces and territories of Canada =\\n\\n\\n\\...</td>\n",
       "      <td>431</td>\n",
       "      <td>https://simple.wikipedia.org/wiki/Provinces_an...</td>\n",
       "    </tr>\n",
       "  </tbody>\n",
       "</table>\n",
       "</div>"
      ]
     },
     "execution_count": 3,
     "metadata": {},
     "output_type": "execute_result"
    }
   ],
   "execution_count": 3
  }
 ],
 "metadata": {
  "kernelspec": {
   "display_name": "Python 3",
   "language": "python",
   "name": "python3"
  },
  "language_info": {
   "codemirror_mode": {
    "name": "ipython",
    "version": 2
   },
   "file_extension": ".py",
   "mimetype": "text/x-python",
   "name": "python",
   "nbconvert_exporter": "python",
   "pygments_lexer": "ipython2",
   "version": "2.7.6"
  }
 },
 "nbformat": 4,
 "nbformat_minor": 5
}
