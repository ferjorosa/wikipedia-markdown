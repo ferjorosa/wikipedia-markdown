{
 "cells": [
  {
   "metadata": {},
   "cell_type": "markdown",
   "source": [
    "hay 3 formas de hacer headers de tablas (para mas informacion, leer docs: https://en.wikipedia.org/wiki/Help:Table)\n",
    "\n",
    "#### Forma 1:\n",
    "\n",
    "```\n",
    "{| class=\"wikitable\"\n",
    "|+ Caption text\n",
    "|-\n",
    "! Header text !! Header text !! Header text\n",
    "|-\n",
    "| Example || Example || Example\n",
    "|-\n",
    "| Example || Example || Example\n",
    "|-\n",
    "| Example || Example || Example\n",
    "|}\n",
    "```\n",
    "\n",
    "#### Forma 2:\n",
    "\n",
    "```\n",
    "{| class=\"wikitable\"\n",
    "|+ Caption text\n",
    "! Header text\n",
    "! Header text\n",
    "! Header text\n",
    "|-\n",
    "| Example || Example || Example\n",
    "|-\n",
    "| Example || Example || Example\n",
    "|-\n",
    "| Example || Example || Example\n",
    "|}\n",
    "```\n",
    "\n",
    "#### Forma 3:\n",
    "\n",
    "```\n",
    "{| class=\"wikitable\"\n",
    "|+ Caption text\n",
    "|-\n",
    "! Header text\n",
    "! Header text\n",
    "! Header text\n",
    "|-\n",
    "| Example || Example || Example\n",
    "|-\n",
    "| Example || Example || Example\n",
    "|-\n",
    "| Example || Example || Example\n",
    "|}\n",
    "```\n",
    "\n",
    "#### Forma 4 ???\n"
   ],
   "id": "f7ca9120313bc334"
  },
  {
   "metadata": {
    "ExecuteTime": {
     "end_time": "2025-01-09T22:09:51.744374Z",
     "start_time": "2025-01-09T22:09:51.739651Z"
    }
   },
   "cell_type": "code",
   "source": [
    "import mwparserfromhell\n",
    "from IPython.display import HTML"
   ],
   "id": "e5251c68a1325333",
   "outputs": [],
   "execution_count": 27
  },
  {
   "cell_type": "code",
   "id": "initial_id",
   "metadata": {
    "collapsed": true,
    "ExecuteTime": {
     "end_time": "2025-01-09T22:09:51.760109Z",
     "start_time": "2025-01-09T22:09:51.755694Z"
    }
   },
   "source": [
    "x = \"\"\"\n",
    "{| class=\"wikitable plainrowheaders\" style=\"text-align:center\"\n",
    "|+Manchester United's honours\n",
    "! style=\"width:1%\" |Type\n",
    "! style=\"width:5%\" |Competition\n",
    "! style=\"width:1%\" |Titles\n",
    "! style=\"width:21%\" |Seasons\n",
    "|-\n",
    "| rowspan=\"5\" |Domestic\n",
    "! scope=\"col\" |First Division/Premier League<ref name=\"premier_league2\" group=\"nb\">Upon its formation in 1992, the Premier League became the top tier of English football; the Football League First and Second Divisions then became the second and third tiers, respectively. From 2004, the First Division became the Championship and the Second Division became League One.</ref>\n",
    "| style=\"background-color:gold\" |20\n",
    "| align=\"left\" |1907–08, 1910–11, 1951–52, 1955–56, 1956–57, 1964–65, 1966–67, 1992–93, 1993–94, 1995–96, 1996–97, 1998–99, 1999–2000, 2000–01, 2002–03, 2006–07, 2007–08, 2008–09, 2010–11, 2012–13\n",
    "|-\n",
    "! scope=\"col\" |Second Division<ref name=\"premier_league2\" group=\"nb\" />\n",
    "|2\n",
    "| align=\"left\" |1935–36, 1974–75\n",
    "|-\n",
    "! scope=\"col\" |FA Cup\n",
    "|13\n",
    "| align=\"left\" |1908–09, 1947–48, 1962–63, 1976–77, 1982–83, 1984–85, 1989–90, 1993–94, 1995–96, 1998–99, 2003–04, 2015–16, 2023–24\n",
    "|-\n",
    "! scope=\"col\" |Football League Cup/EFL Cup\n",
    "|6\n",
    "| align=\"left\" |1991–92, 2005–06, 2008–09, 2009–10, 2016–17, 2022–23\n",
    "|-\n",
    "! scope=\"col\" |FA Charity Shield/FA Community Shield\n",
    "| style=\"background-color:gold\" |21\n",
    "| align=\"left\" |1908, 1911, 1952, 1956, 1957, 1965*, 1967*, 1977*, 1983, 1990*, 1993, 1994, 1996, 1997, 2003, 2007, 2008, 2010, 2011, 2013, 2016 (* shared)\n",
    "|-\n",
    "| rowspan=\"4\" |Continental\n",
    "! scope=\"col\" |European Cup/UEFA Champions League\n",
    "|3\n",
    "| align=\"left\" |1967–68, 1998–99, 2007–08\n",
    "|-\n",
    "! scope=\"col\" |European Cup Winners' Cup\n",
    "|1\n",
    "| align=\"left\" |1990–91\n",
    "|-\n",
    "! scope=\"col\" |UEFA Europa League\n",
    "|1\n",
    "| align=\"left\" |2016–17\n",
    "|-\n",
    "! scope=\"col\" |UEFA Super Cup\n",
    "|1\n",
    "| align=\"left\" |1991\n",
    "|-\n",
    "| rowspan=\"2\" |Worldwide\n",
    "! scope=\"col\" |FIFA Club World Cup\n",
    "|1\n",
    "| align=\"left\" |2008\n",
    "|-\n",
    "! scope=\"col\" |Intercontinental Cup\n",
    "|1\n",
    "| align=\"left\" |1999\n",
    "|}\n",
    "\"\"\"\n",
    "\n",
    "x_2 = \"\"\"\n",
    "{| class=\"wikitable\"\n",
    "|+ Caption text\n",
    "|-\n",
    "! Header text\n",
    "! Header text\n",
    "! Header text\n",
    "|-\n",
    "| Example || Example || Example\n",
    "|-\n",
    "| Example || Example || Example\n",
    "|-\n",
    "| Example || Example || Example\n",
    "|}\n",
    "\"\"\""
   ],
   "outputs": [],
   "execution_count": 28
  },
  {
   "metadata": {
    "ExecuteTime": {
     "end_time": "2025-01-09T22:09:51.774039Z",
     "start_time": "2025-01-09T22:09:51.767024Z"
    }
   },
   "cell_type": "code",
   "source": [
    "def wiki_table_to_html_old(node):\n",
    "    result = ['<table>']\n",
    "\n",
    "    first_row = False\n",
    "    header_loop = False\n",
    "\n",
    "    for row in node.contents.nodes:\n",
    "\n",
    "        # Conditions related to header loop\n",
    "        # This condition indicates that the header loop will not be necessary\n",
    "        if row.wiki_markup == \"|-\":\n",
    "            first_row = True\n",
    "\n",
    "        # This condition indicates that header loop was active but now it has finished (i.e., no more headers)\n",
    "        if header_loop is True and isinstance(row, mwparserfromhell.nodes.Tag) and row.tag != 'th':\n",
    "            header_loop = False\n",
    "            result.append('</tr>')\n",
    "\n",
    "        # Special caption case\n",
    "        if (isinstance(row, mwparserfromhell.nodes.Tag)\n",
    "            and row.tag == 'td'\n",
    "            and row.contents.startswith('+')\n",
    "            and row.wiki_markup == \"|\"\n",
    "            and first_row is False\n",
    "        ):\n",
    "            caption_text = row.contents[1:].strip()  # Remove the '+' and strip whitespace (including \\n)\n",
    "            result.append(f'<caption>{caption_text}</caption>')\n",
    "\n",
    "        # Special header case\n",
    "        elif (isinstance(row, mwparserfromhell.nodes.Tag)\n",
    "            and row.tag == 'th'\n",
    "            and row.wiki_markup == \"!\"\n",
    "            and first_row is False\n",
    "        ):\n",
    "            # If it is the first th, add <tr>, then <th>content</th>\n",
    "            # In the last one, add </tr> to close the header\n",
    "            if not header_loop:\n",
    "                result.append('<tr>')\n",
    "                header_loop = True # start the \"loop\"\n",
    "\n",
    "            result.append('<th>')\n",
    "\n",
    "            # Process the cell contents\n",
    "            for content in row.contents.nodes:\n",
    "                if isinstance(content, mwparserfromhell.nodes.Text):\n",
    "                    result.append(str(content))\n",
    "\n",
    "            # Close the header cell tag\n",
    "            result.append('</th>')\n",
    "\n",
    "        # Default case\n",
    "        if isinstance(row, mwparserfromhell.nodes.Tag) and row.tag == 'tr':\n",
    "            result.append('<tr>')\n",
    "            for cell in row.contents.nodes:\n",
    "                if isinstance(cell, mwparserfromhell.nodes.Tag) and cell.tag in ['td', 'th']:\n",
    "                    # Extract only rowspan and colspan attributes\n",
    "                    attrs = []\n",
    "                    if any('rowspan' in attribute for attribute in cell.attributes):\n",
    "                        for attribute in cell.attributes:\n",
    "                            if 'rowspan' in attribute:\n",
    "                                attrs.append(attribute.strip())\n",
    "                                break\n",
    "                    if any('colspan' in attribute for attribute in cell.attributes):\n",
    "                        for attribute in cell.attributes:\n",
    "                            if 'colspan' in attribute:\n",
    "                                attrs.append(attribute.strip())\n",
    "                                break\n",
    "\n",
    "                    # Construct the opening tag with rowspan and colspan (if they exist)\n",
    "                    attrs_str = ' '.join(attrs)\n",
    "                    result.append(f'<{cell.tag} {attrs_str}>' if attrs_str else f'<{cell.tag}>')\n",
    "\n",
    "                    # Process the cell contents\n",
    "                    for content in cell.contents.nodes:\n",
    "                        if isinstance(content, mwparserfromhell.nodes.Text):\n",
    "                            result.append(str(content))\n",
    "\n",
    "                    # Close the cell tag\n",
    "                    result.append(f'</{cell.tag}>')\n",
    "            result.append('</tr>')\n",
    "\n",
    "\n",
    "    result.append('</table>')\n",
    "    return ''.join(result)"
   ],
   "id": "7bb5f55b394b7126",
   "outputs": [],
   "execution_count": 29
  },
  {
   "metadata": {},
   "cell_type": "code",
   "outputs": [],
   "execution_count": null,
   "source": [
    "def wiki_table_to_html(node):\n",
    "    result = ['<table>']\n",
    "    first_row = False\n",
    "    header_loop = False\n",
    "\n",
    "    for row in node.contents.nodes:\n",
    "\n",
    "        # The header loop will not be necessary\n",
    "        if row.wiki_markup == \"|-\":\n",
    "            first_row = True  # Mark that the first row has been encountered\n",
    "\n",
    "        # Check if the header loop is active and if the current row is not a header cell\n",
    "        if header_loop is True and isinstance(row, mwparserfromhell.nodes.Tag) and row.tag != 'th':\n",
    "            header_loop = False  # End the header loop\n",
    "            result.append('</tr>')  # Close the header row\n",
    "\n",
    "        # Handle captions\n",
    "        if (isinstance(row, mwparserfromhell.nodes.Tag)\n",
    "            and row.tag == 'td'\n",
    "            and row.contents.startswith('+')\n",
    "            and row.wiki_markup == \"|\"\n",
    "            and first_row is False\n",
    "        ):\n",
    "            # Extract the caption text, removing the '+' and any leading/trailing whitespace\n",
    "            caption_text = row.contents[1:].strip()\n",
    "            result.append(f'<caption>{caption_text}</caption>')\n",
    "\n",
    "        # Handle the special case for header cells\n",
    "        elif (isinstance(row, mwparserfromhell.nodes.Tag)\n",
    "            and row.tag == 'th'\n",
    "            and row.wiki_markup == \"!\"\n",
    "            and first_row is False\n",
    "        ):\n",
    "            # If this is the first header cell, start a new row and mark the header loop as active\n",
    "            if not header_loop:\n",
    "                result.append('<tr>')\n",
    "                header_loop = True\n",
    "\n",
    "            result.append('<th>')\n",
    "\n",
    "            # Process the contents of the header cell\n",
    "            for content in row.contents.nodes:\n",
    "                if isinstance(content, mwparserfromhell.nodes.Text):\n",
    "                    result.append(str(content))\n",
    "\n",
    "            result.append('</th>')\n",
    "\n",
    "        # Handle the default case for table rows\n",
    "        if isinstance(row, mwparserfromhell.nodes.Tag) and row.tag == 'tr':\n",
    "            result.append('<tr>')\n",
    "\n",
    "            for cell in row.contents.nodes:\n",
    "                if isinstance(cell, mwparserfromhell.nodes.Tag) and cell.tag in ['td', 'th']:\n",
    "                    # Extract rowspan and colspan attributes if they exist\n",
    "                    attrs = []\n",
    "                    if any('rowspan' in attribute for attribute in cell.attributes):\n",
    "                        for attribute in cell.attributes:\n",
    "                            if 'rowspan' in attribute:\n",
    "                                attrs.append(attribute.strip())\n",
    "                                break\n",
    "                    if any('colspan' in attribute for attribute in cell.attributes):\n",
    "                        for attribute in cell.attributes:\n",
    "                            if 'colspan' in attribute:\n",
    "                                attrs.append(attribute.strip())\n",
    "                                break\n",
    "\n",
    "                    # Construct the opening cell tag with attributes (if any)\n",
    "                    attrs_str = ' '.join(attrs)\n",
    "                    result.append(f'<{cell.tag} {attrs_str}>' if attrs_str else f'<{cell.tag}>')\n",
    "\n",
    "                    # Process the contents of the cell\n",
    "                    for content in cell.contents.nodes:\n",
    "                        if isinstance(content, mwparserfromhell.nodes.Text):\n",
    "                            result.append(str(content))\n",
    "\n",
    "                    # Close the cell tag\n",
    "                    result.append(f'</{cell.tag}>')\n",
    "\n",
    "            result.append('</tr>')  # Close the row\n",
    "\n",
    "    # Close the table tag and return the result as a single string\n",
    "    result.append('</table>')\n",
    "    return ''.join(result)"
   ],
   "id": "bd38a5f1e6c396d3"
  },
  {
   "metadata": {
    "ExecuteTime": {
     "end_time": "2025-01-09T22:09:51.816600Z",
     "start_time": "2025-01-09T22:09:51.801365Z"
    }
   },
   "cell_type": "code",
   "source": [
    "wikicode = mwparserfromhell.parse(x)\n",
    "\n",
    "html_text = wiki_table_to_html(wikicode.filter_tags(matches='table')[0])\n",
    "\n",
    "# print(html_text)\n",
    "# Render the HTML in Jupyter\n",
    "HTML(html_text)"
   ],
   "id": "ddf1889ccbe921c4",
   "outputs": [
    {
     "data": {
      "text/plain": [
       "<IPython.core.display.HTML object>"
      ],
      "text/html": [
       "<table><caption>Manchester United's honours</caption><tr><th>Type\n",
       "</th><th>Competition\n",
       "</th><th>Titles\n",
       "</th><th>Seasons\n",
       "</th></tr><tr><td rowspan=\"5\">Domestic\n",
       "</td><th>First Division/Premier League\n",
       "</th><td>20\n",
       "</td><td>1907–08, 1910–11, 1951–52, 1955–56, 1956–57, 1964–65, 1966–67, 1992–93, 1993–94, 1995–96, 1996–97, 1998–99, 1999–2000, 2000–01, 2002–03, 2006–07, 2007–08, 2008–09, 2010–11, 2012–13\n",
       "</td></tr><tr><th>Second Division\n",
       "</th><td>2\n",
       "</td><td>1935–36, 1974–75\n",
       "</td></tr><tr><th>FA Cup\n",
       "</th><td>13\n",
       "</td><td>1908–09, 1947–48, 1962–63, 1976–77, 1982–83, 1984–85, 1989–90, 1993–94, 1995–96, 1998–99, 2003–04, 2015–16, 2023–24\n",
       "</td></tr><tr><th>Football League Cup/EFL Cup\n",
       "</th><td>6\n",
       "</td><td>1991–92, 2005–06, 2008–09, 2009–10, 2016–17, 2022–23\n",
       "</td></tr><tr><th>FA Charity Shield/FA Community Shield\n",
       "</th><td>21\n",
       "</td><td>1908, 1911, 1952, 1956, 1957, 1965*, 1967*, 1977*, 1983, 1990*, 1993, 1994, 1996, 1997, 2003, 2007, 2008, 2010, 2011, 2013, 2016 (* shared)\n",
       "</td></tr><tr><td rowspan=\"4\">Continental\n",
       "</td><th>European Cup/UEFA Champions League\n",
       "</th><td>3\n",
       "</td><td>1967–68, 1998–99, 2007–08\n",
       "</td></tr><tr><th>European Cup Winners' Cup\n",
       "</th><td>1\n",
       "</td><td>1990–91\n",
       "</td></tr><tr><th>UEFA Europa League\n",
       "</th><td>1\n",
       "</td><td>2016–17\n",
       "</td></tr><tr><th>UEFA Super Cup\n",
       "</th><td>1\n",
       "</td><td>1991\n",
       "</td></tr><tr><td rowspan=\"2\">Worldwide\n",
       "</td><th>FIFA Club World Cup\n",
       "</th><td>1\n",
       "</td><td>2008\n",
       "</td></tr><tr><th>Intercontinental Cup\n",
       "</th><td>1\n",
       "</td><td>1999\n",
       "</td></tr></table>"
      ]
     },
     "execution_count": 31,
     "metadata": {},
     "output_type": "execute_result"
    }
   ],
   "execution_count": 31
  },
  {
   "metadata": {},
   "cell_type": "markdown",
   "source": "# Test cases",
   "id": "7ea38f0709dc8b19"
  },
  {
   "metadata": {},
   "cell_type": "markdown",
   "source": "## Test case 1 (simple)",
   "id": "533f94542fdf886d"
  },
  {
   "metadata": {
    "jupyter": {
     "is_executing": true
    },
    "ExecuteTime": {
     "start_time": "2025-01-09T23:02:19.823530Z"
    }
   },
   "cell_type": "code",
   "source": [
    "wiki_table = \"\"\"\n",
    "{| class=\"wikitable\"\n",
    "|+ Test Case 1: Simple rowspan\n",
    "|-\n",
    "! Header 1\n",
    "! Header 2\n",
    "! Header 3\n",
    "|-\n",
    "| A1 || rowspan=\"2\" | B1-B2 || C1\n",
    "|-\n",
    "| A2 || C2\n",
    "|-\n",
    "| A3 || B3 || C3\n",
    "|}\n",
    "\"\"\"\n",
    "\n",
    "wikicode = mwparserfromhell.parse(wiki_table)\n",
    "\n",
    "html_text = wiki_table_to_html(wikicode.filter_tags(matches='table')[0])\n",
    "\n",
    "# print(html_text)\n",
    "\n",
    "# Render the HTML in Jupyter\n",
    "HTML(html_text)"
   ],
   "id": "9a529be147a77cf6",
   "outputs": [],
   "execution_count": null
  },
  {
   "metadata": {},
   "cell_type": "markdown",
   "source": "## Test case 2: Simple `colspan`",
   "id": "5c7b0bd9544c5dc2"
  },
  {
   "metadata": {
    "ExecuteTime": {
     "end_time": "2025-01-09T22:09:51.873762Z",
     "start_time": "2025-01-09T22:09:51.869130Z"
    }
   },
   "cell_type": "code",
   "source": [
    "wiki_table = \"\"\"\n",
    "{| class=\"wikitable\"\n",
    "|+ Test Case 2: Simple colspan\n",
    "|-\n",
    "! Header 1\n",
    "! Header 2\n",
    "! Header 3\n",
    "|-\n",
    "| colspan=\"2\" | A1-B1 || C1\n",
    "|-\n",
    "| A2 || B2 || C2\n",
    "|-\n",
    "| A3 || B3 || C3\n",
    "|}\n",
    "\"\"\"\n",
    "\n",
    "wikicode = mwparserfromhell.parse(wiki_table)\n",
    "\n",
    "html_text = wiki_table_to_html(wikicode.filter_tags(matches='table')[0])\n",
    "\n",
    "# print(html_text)\n",
    "\n",
    "# Render the HTML in Jupyter\n",
    "HTML(html_text)"
   ],
   "id": "2cb0683c5164d112",
   "outputs": [
    {
     "data": {
      "text/plain": [
       "<IPython.core.display.HTML object>"
      ],
      "text/html": [
       "<table><caption>Test Case 2: Simple colspan</caption><tr><th> Header 1\n",
       "</th><th> Header 2\n",
       "</th><th> Header 3\n",
       "</th></tr><tr><td colspan=\"2\"> A1-B1 </td><td> C1\n",
       "</td></tr><tr><td> A2 </td><td> B2 </td><td> C2\n",
       "</td></tr><tr><td> A3 </td><td> B3 </td><td> C3\n",
       "</td></tr></table>"
      ]
     },
     "execution_count": 33,
     "metadata": {},
     "output_type": "execute_result"
    }
   ],
   "execution_count": 33
  },
  {
   "metadata": {},
   "cell_type": "markdown",
   "source": "## Test Case 3: Combined `rowspan` and `colspan`",
   "id": "76147a72974f9851"
  },
  {
   "metadata": {
    "ExecuteTime": {
     "end_time": "2025-01-09T22:09:51.890599Z",
     "start_time": "2025-01-09T22:09:51.886848Z"
    }
   },
   "cell_type": "code",
   "source": [
    "wiki_table = \"\"\"\n",
    "{| class=\"wikitable\"\n",
    "|+ Test Case 3: Combined rowspan and colspan\n",
    "|-\n",
    "! Header 1\n",
    "! Header 2\n",
    "! Header 3\n",
    "|-\n",
    "| rowspan=\"2\" | A1-A2 || colspan=\"2\" | B1-C1\n",
    "|-\n",
    "| B2 || C2\n",
    "|-\n",
    "| A3 || B3 || C3\n",
    "|}\n",
    "\"\"\"\n",
    "\n",
    "wikicode = mwparserfromhell.parse(wiki_table)\n",
    "\n",
    "html_text = wiki_table_to_html(wikicode.filter_tags(matches='table')[0])\n",
    "\n",
    "# print(html_text)\n",
    "\n",
    "# Render the HTML in Jupyter\n",
    "HTML(html_text)"
   ],
   "id": "a1bc6c5d1f05f52f",
   "outputs": [
    {
     "data": {
      "text/plain": [
       "<IPython.core.display.HTML object>"
      ],
      "text/html": [
       "<table><caption>Test Case 3: Combined rowspan and colspan</caption><tr><th> Header 1\n",
       "</th><th> Header 2\n",
       "</th><th> Header 3\n",
       "</th></tr><tr><td rowspan=\"2\"> A1-A2 </td><td colspan=\"2\"> B1-C1\n",
       "</td></tr><tr><td> B2 </td><td> C2\n",
       "</td></tr><tr><td> A3 </td><td> B3 </td><td> C3\n",
       "</td></tr></table>"
      ]
     },
     "execution_count": 34,
     "metadata": {},
     "output_type": "execute_result"
    }
   ],
   "execution_count": 34
  },
  {
   "metadata": {},
   "cell_type": "markdown",
   "source": "## Test Case 4: Multiple rowspan and colspan",
   "id": "472f2a9daeed8c36"
  },
  {
   "metadata": {
    "ExecuteTime": {
     "end_time": "2025-01-09T22:09:51.906345Z",
     "start_time": "2025-01-09T22:09:51.903063Z"
    }
   },
   "cell_type": "code",
   "source": [
    "wiki_table = \"\"\"\n",
    "{| class=\"wikitable\"\n",
    "|+ Test Case 4: Multiple rowspan and colspan\n",
    "|-\n",
    "! Header 1\n",
    "! Header 2\n",
    "! Header 3\n",
    "|-\n",
    "| rowspan=\"2\" | A1-A2 || colspan=\"2\" | B1-C1\n",
    "|-\n",
    "| B2 || C2\n",
    "|-\n",
    "| A3 || rowspan=\"2\" | B3-B4 || C3\n",
    "|-\n",
    "| A4 || C4\n",
    "|}\n",
    "\"\"\"\n",
    "\n",
    "wikicode = mwparserfromhell.parse(wiki_table)\n",
    "\n",
    "html_text = wiki_table_to_html(wikicode.filter_tags(matches='table')[0])\n",
    "\n",
    "# print(html_text)\n",
    "\n",
    "# Render the HTML in Jupyter\n",
    "HTML(html_text)"
   ],
   "id": "fb15507f2bd83b90",
   "outputs": [
    {
     "data": {
      "text/plain": [
       "<IPython.core.display.HTML object>"
      ],
      "text/html": [
       "<table><caption>Test Case 4: Multiple rowspan and colspan</caption><tr><th> Header 1\n",
       "</th><th> Header 2\n",
       "</th><th> Header 3\n",
       "</th></tr><tr><td rowspan=\"2\"> A1-A2 </td><td colspan=\"2\"> B1-C1\n",
       "</td></tr><tr><td> B2 </td><td> C2\n",
       "</td></tr><tr><td> A3 </td><td rowspan=\"2\"> B3-B4 </td><td> C3\n",
       "</td></tr><tr><td> A4 </td><td> C4\n",
       "</td></tr></table>"
      ]
     },
     "execution_count": 35,
     "metadata": {},
     "output_type": "execute_result"
    }
   ],
   "execution_count": 35
  },
  {
   "metadata": {},
   "cell_type": "markdown",
   "source": [
    "## Test Case 5: Complex Merging\n",
    "\n",
    "This case is weird, but seems to be ok"
   ],
   "id": "8ee20d948b73421e"
  },
  {
   "metadata": {
    "ExecuteTime": {
     "end_time": "2025-01-09T22:09:51.921746Z",
     "start_time": "2025-01-09T22:09:51.918228Z"
    }
   },
   "cell_type": "code",
   "source": [
    "wiki_table = \"\"\"\n",
    "{| class=\"wikitable\"\n",
    "|+ Test Case 5: Complex Merging\n",
    "|-\n",
    "! Header 1\n",
    "! Header 2\n",
    "! Header 3\n",
    "|-\n",
    "| rowspan=\"2\" | A1-A2 || colspan=\"2\" rowspan=\"2\" | B1-C2\n",
    "|-\n",
    "|-\n",
    "| A3 || B3 || C3\n",
    "|-\n",
    "| A4 || rowspan=\"2\" | B4-B5 || C4\n",
    "|-\n",
    "| A5 || C5\n",
    "|}\n",
    "\"\"\"\n",
    "\n",
    "wikicode = mwparserfromhell.parse(wiki_table)\n",
    "\n",
    "html_text = wiki_table_to_html(wikicode.filter_tags(matches='table')[0])\n",
    "\n",
    "# print(html_text)\n",
    "\n",
    "# Render the HTML in Jupyter\n",
    "HTML(html_text)"
   ],
   "id": "b0b573db39e621f5",
   "outputs": [
    {
     "data": {
      "text/plain": [
       "<IPython.core.display.HTML object>"
      ],
      "text/html": [
       "<table><caption>Test Case 5: Complex Merging</caption><tr><th> Header 1\n",
       "</th><th> Header 2\n",
       "</th><th> Header 3\n",
       "</th></tr><tr><td rowspan=\"2\"> A1-A2 </td><td colspan=\"2\" rowspan=\"2\"> B1-C2\n",
       "</td></tr><tr></tr><tr><td> A3 </td><td> B3 </td><td> C3\n",
       "</td></tr><tr><td> A4 </td><td rowspan=\"2\"> B4-B5 </td><td> C4\n",
       "</td></tr><tr><td> A5 </td><td> C5\n",
       "</td></tr></table>"
      ]
     },
     "execution_count": 36,
     "metadata": {},
     "output_type": "execute_result"
    }
   ],
   "execution_count": 36
  },
  {
   "metadata": {},
   "cell_type": "markdown",
   "source": "## Test Case 6: Edge Case - Single Cell with rowspan and colspan",
   "id": "7f35f0776bf932b1"
  },
  {
   "metadata": {
    "ExecuteTime": {
     "end_time": "2025-01-09T22:09:51.936014Z",
     "start_time": "2025-01-09T22:09:51.932766Z"
    }
   },
   "cell_type": "code",
   "source": [
    "wiki_table = \"\"\"\n",
    "{| class=\"wikitable\"\n",
    "|+ Test Case 6: Single Cell with rowspan and colspan\n",
    "|-\n",
    "! Header 1\n",
    "! Header 2\n",
    "! Header 3\n",
    "|-\n",
    "| colspan=\"2\" rowspan=\"2\" | A1-B2 || C1\n",
    "|-\n",
    "| C2\n",
    "|-\n",
    "| A3 || B3 || C3\n",
    "|}\n",
    "\"\"\"\n",
    "\n",
    "wikicode = mwparserfromhell.parse(wiki_table)\n",
    "\n",
    "html_text = wiki_table_to_html(wikicode.filter_tags(matches='table')[0])\n",
    "\n",
    "# print(html_text)\n",
    "\n",
    "# Render the HTML in Jupyter\n",
    "HTML(html_text)"
   ],
   "id": "597d3879044ca019",
   "outputs": [
    {
     "data": {
      "text/plain": [
       "<IPython.core.display.HTML object>"
      ],
      "text/html": [
       "<table><caption>Test Case 6: Single Cell with rowspan and colspan</caption><tr><th> Header 1\n",
       "</th><th> Header 2\n",
       "</th><th> Header 3\n",
       "</th></tr><tr><td colspan=\"2\" rowspan=\"2\"> A1-B2 </td><td> C1\n",
       "</td></tr><tr><td> C2\n",
       "</td></tr><tr><td> A3 </td><td> B3 </td><td> C3\n",
       "</td></tr></table>"
      ]
     },
     "execution_count": 37,
     "metadata": {},
     "output_type": "execute_result"
    }
   ],
   "execution_count": 37
  },
  {
   "metadata": {},
   "cell_type": "markdown",
   "source": "## Test Case 7: Full Table Merge",
   "id": "33fce2b71cf51f8"
  },
  {
   "metadata": {
    "ExecuteTime": {
     "end_time": "2025-01-09T22:09:51.950975Z",
     "start_time": "2025-01-09T22:09:51.947795Z"
    }
   },
   "cell_type": "code",
   "source": [
    "wiki_table = \"\"\"\n",
    "{| class=\"wikitable\"\n",
    "|+ Test Case 10: Full Table Merge\n",
    "|-\n",
    "! Header 1\n",
    "! Header 2\n",
    "! Header 3\n",
    "|-\n",
    "| colspan=\"3\" rowspan=\"3\" | A1-C3\n",
    "|-\n",
    "|-\n",
    "|-\n",
    "| A4 || B4 || C4\n",
    "|}\n",
    "\"\"\"\n",
    "\n",
    "wikicode = mwparserfromhell.parse(wiki_table)\n",
    "\n",
    "html_text = wiki_table_to_html(wikicode.filter_tags(matches='table')[0])\n",
    "\n",
    "# print(html_text)\n",
    "\n",
    "# Render the HTML in Jupyter\n",
    "HTML(html_text)"
   ],
   "id": "ca004d27f272cc3f",
   "outputs": [
    {
     "data": {
      "text/plain": [
       "<IPython.core.display.HTML object>"
      ],
      "text/html": [
       "<table><caption>Test Case 10: Full Table Merge</caption><tr><th> Header 1\n",
       "</th><th> Header 2\n",
       "</th><th> Header 3\n",
       "</th></tr><tr><td colspan=\"3\" rowspan=\"3\"> A1-C3\n",
       "</td></tr><tr></tr><tr></tr><tr><td> A4 </td><td> B4 </td><td> C4\n",
       "</td></tr></table>"
      ]
     },
     "execution_count": 38,
     "metadata": {},
     "output_type": "execute_result"
    }
   ],
   "execution_count": 38
  },
  {
   "metadata": {},
   "cell_type": "markdown",
   "source": [
    "# Nested Tables\n",
    "\n",
    "`mwparserfromhell` does not correctly identify nested tables, which creates a significant issue. Specifically, it treats the start of a table (`{|`) as a \"normal node\" rather than recognizing it as the beginning of a nested structure.\n",
    "\n",
    "This behavior disrupts the recursive approach entirely, as the parser fails to distinguish between outer and inner tables. To address this, we would need to develop a solution from scratch that properly handles nested tables.\n",
    "\n",
    "```\n",
    "{|\n",
    "|+ Outer Table\n",
    "|-\n",
    "| Outer Cell 1\n",
    "| {|\n",
    "  |+ Inner Table\n",
    "  |-\n",
    "  | Inner Cell 1 || Inner Cell 2\n",
    "  |}\n",
    "| Outer Cell 2\n",
    "|}\n",
    "```"
   ],
   "id": "dc10a2de67a81932"
  }
 ],
 "metadata": {
  "kernelspec": {
   "display_name": "Python 3",
   "language": "python",
   "name": "python3"
  },
  "language_info": {
   "codemirror_mode": {
    "name": "ipython",
    "version": 2
   },
   "file_extension": ".py",
   "mimetype": "text/x-python",
   "name": "python",
   "nbconvert_exporter": "python",
   "pygments_lexer": "ipython2",
   "version": "2.7.6"
  }
 },
 "nbformat": 4,
 "nbformat_minor": 5
}
