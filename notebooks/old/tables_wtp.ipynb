{
 "cells": [
  {
   "cell_type": "code",
   "id": "initial_id",
   "metadata": {
    "collapsed": true,
    "ExecuteTime": {
     "end_time": "2025-01-09T23:02:54.053288Z",
     "start_time": "2025-01-09T23:02:53.888133Z"
    }
   },
   "source": [
    "import wikitextparser as wtp\n",
    "\n",
    "def wiki_table_to_html(node):\n",
    "    result = ['<table>']\n",
    "    first_row = False\n",
    "    header_loop = False\n",
    "\n",
    "    # Parse the table using wikitextparser\n",
    "    table = wtp.Table(node)\n",
    "\n",
    "    for row in table.get_rows():\n",
    "\n",
    "        # The header loop will not be necessary\n",
    "        if row.startswith(\"|-\"):\n",
    "            first_row = True  # Mark that the first row has been encountered\n",
    "\n",
    "        # Check if the header loop is active and if the current row is not a header cell\n",
    "        if header_loop is True and not row.startswith(\"!\"):\n",
    "            header_loop = False  # End the header loop\n",
    "            result.append('</tr>')  # Close the header row\n",
    "\n",
    "        # Handle captions\n",
    "        if (row.startswith(\"|+\") and first_row is False):\n",
    "            # Extract the caption text, removing the '+' and any leading/trailing whitespace\n",
    "            caption_text = row[2:].strip()\n",
    "            result.append(f'<caption>{caption_text}</caption>')\n",
    "\n",
    "        # Handle the special case for header cells\n",
    "        elif (row.startswith(\"!\") and first_row is False):\n",
    "            # If this is the first header cell, start a new row and mark the header loop as active\n",
    "            if not header_loop:\n",
    "                result.append('<tr>')\n",
    "                header_loop = True\n",
    "\n",
    "            # Split the row into individual cells\n",
    "            cells = row.split(\"!!\")\n",
    "            for cell in cells:\n",
    "                cell = cell.strip(\"! \\n\")\n",
    "                result.append('<th>')\n",
    "                result.append(cell)\n",
    "                result.append('</th>')\n",
    "\n",
    "        # Handle the default case for table rows\n",
    "        elif row.startswith(\"|\"):\n",
    "            result.append('<tr>')\n",
    "\n",
    "            # Split the row into individual cells\n",
    "            cells = row.split(\"||\")\n",
    "            for cell in cells:\n",
    "                cell = cell.strip(\"| \\n\")\n",
    "\n",
    "                # Check if the cell is a header or data cell\n",
    "                if cell.startswith(\"!\"):\n",
    "                    cell_tag = 'th'\n",
    "                    cell = cell.strip(\"! \\n\")\n",
    "                else:\n",
    "                    cell_tag = 'td'\n",
    "\n",
    "                # Extract rowspan and colspan attributes if they exist\n",
    "                attrs = []\n",
    "                if \"rowspan\" in cell:\n",
    "                    attrs.append(f'rowspan=\"{cell.split(\"rowspan=\")[1].split()[0]}\"')\n",
    "                if \"colspan\" in cell:\n",
    "                    attrs.append(f'colspan=\"{cell.split(\"colspan=\")[1].split()[0]}\"')\n",
    "\n",
    "                # Construct the opening cell tag with attributes (if any)\n",
    "                attrs_str = ' '.join(attrs)\n",
    "                result.append(f'<{cell_tag} {attrs_str}>' if attrs_str else f'<{cell_tag}>')\n",
    "\n",
    "                # Process the contents of the cell\n",
    "                result.append(cell.split(\"|\")[-1].strip())\n",
    "\n",
    "                # Close the cell tag\n",
    "                result.append(f'</{cell_tag}>')\n",
    "\n",
    "            result.append('</tr>')  # Close the row\n",
    "\n",
    "    # Close the table tag and return the result as a single string\n",
    "    result.append('</table>')\n",
    "    return ''.join(result)"
   ],
   "outputs": [],
   "execution_count": 2
  },
  {
   "metadata": {},
   "cell_type": "markdown",
   "source": [
    "## Test \n",
    "\n",
    "WTP is able to identify the table properly, however, it does not offer the fine-grained detail of mwparserfromhell. Nevertheless, we can combine both though. One idea would be to use WTP as the main parser engine and mwparserfromhell to transform tables"
   ],
   "id": "52e4276a129edb"
  },
  {
   "metadata": {
    "ExecuteTime": {
     "end_time": "2025-01-09T23:07:46.832498Z",
     "start_time": "2025-01-09T23:02:57.057306Z"
    }
   },
   "cell_type": "code",
   "source": [
    "wiki_table = \"\"\"\n",
    "{| class=\"wikitable\"\n",
    "|+ Test Case 1: Simple rowspan\n",
    "|-\n",
    "! Header 1\n",
    "! Header 2\n",
    "! Header 3\n",
    "|-\n",
    "| A1 || rowspan=\"2\" | B1-B2 || C1\n",
    "|-\n",
    "| A2 || C2\n",
    "|-\n",
    "| A3 || B3 || C3\n",
    "|}\n",
    "\"\"\"\n",
    "\n",
    "# Parse the wikitext using wikitextparser\n",
    "parsed_wikicode = wtp.parse(wiki_table)\n",
    "\n",
    "print(parsed_wikicode)"
   ],
   "id": "246c2ffe1807135b",
   "outputs": [
    {
     "name": "stdout",
     "output_type": "stream",
     "text": [
      "\n",
      "{| class=\"wikitable\"\n",
      "|+ Test Case 1: Simple rowspan\n",
      "|-\n",
      "! Header 1\n",
      "! Header 2\n",
      "! Header 3\n",
      "|-\n",
      "| A1 || rowspan=\"2\" | B1-B2 || C1\n",
      "|-\n",
      "| A2 || C2\n",
      "|-\n",
      "| A3 || B3 || C3\n",
      "|}\n"
     ]
    },
    {
     "ename": "KeyboardInterrupt",
     "evalue": "",
     "output_type": "error",
     "traceback": [
      "\u001B[0;31m---------------------------------------------------------------------------\u001B[0m",
      "\u001B[0;31mKeyboardInterrupt\u001B[0m                         Traceback (most recent call last)",
      "Cell \u001B[0;32mIn[3], line 20\u001B[0m\n\u001B[1;32m     17\u001B[0m \u001B[38;5;66;03m# Parse the wikitext using wikitextparser\u001B[39;00m\n\u001B[1;32m     18\u001B[0m parsed_wikicode \u001B[38;5;241m=\u001B[39m wtp\u001B[38;5;241m.\u001B[39mparse(wiki_table)\n\u001B[0;32m---> 20\u001B[0m \u001B[38;5;28;43mprint\u001B[39;49m\u001B[43m(\u001B[49m\u001B[43mparsed_wikicode\u001B[49m\u001B[43m)\u001B[49m\n",
      "File \u001B[0;32m~/Documents/GitHub/wikipedia-markdown/.venv/lib/python3.10/site-packages/ipykernel/iostream.py:694\u001B[0m, in \u001B[0;36mOutStream.write\u001B[0;34m(self, string)\u001B[0m\n\u001B[1;32m    692\u001B[0m     \u001B[38;5;28mself\u001B[39m\u001B[38;5;241m.\u001B[39mpub_thread\u001B[38;5;241m.\u001B[39mschedule(\u001B[38;5;28mself\u001B[39m\u001B[38;5;241m.\u001B[39m_flush)\n\u001B[1;32m    693\u001B[0m \u001B[38;5;28;01melse\u001B[39;00m:\n\u001B[0;32m--> 694\u001B[0m     \u001B[38;5;28;43mself\u001B[39;49m\u001B[38;5;241;43m.\u001B[39;49m\u001B[43m_schedule_flush\u001B[49m\u001B[43m(\u001B[49m\u001B[43m)\u001B[49m\n\u001B[1;32m    696\u001B[0m \u001B[38;5;28;01mreturn\u001B[39;00m \u001B[38;5;28mlen\u001B[39m(string)\n",
      "File \u001B[0;32m~/Documents/GitHub/wikipedia-markdown/.venv/lib/python3.10/site-packages/ipykernel/iostream.py:590\u001B[0m, in \u001B[0;36mOutStream._schedule_flush\u001B[0;34m(self)\u001B[0m\n\u001B[1;32m    587\u001B[0m \u001B[38;5;28;01mdef\u001B[39;00m\u001B[38;5;250m \u001B[39m\u001B[38;5;21m_schedule_in_thread\u001B[39m():\n\u001B[1;32m    588\u001B[0m     \u001B[38;5;28mself\u001B[39m\u001B[38;5;241m.\u001B[39m_io_loop\u001B[38;5;241m.\u001B[39mcall_later(\u001B[38;5;28mself\u001B[39m\u001B[38;5;241m.\u001B[39mflush_interval, \u001B[38;5;28mself\u001B[39m\u001B[38;5;241m.\u001B[39m_flush)\n\u001B[0;32m--> 590\u001B[0m \u001B[38;5;28;43mself\u001B[39;49m\u001B[38;5;241;43m.\u001B[39;49m\u001B[43mpub_thread\u001B[49m\u001B[38;5;241;43m.\u001B[39;49m\u001B[43mschedule\u001B[49m\u001B[43m(\u001B[49m\u001B[43m_schedule_in_thread\u001B[49m\u001B[43m)\u001B[49m\n",
      "File \u001B[0;32m~/Documents/GitHub/wikipedia-markdown/.venv/lib/python3.10/site-packages/ipykernel/iostream.py:267\u001B[0m, in \u001B[0;36mIOPubThread.schedule\u001B[0;34m(self, f)\u001B[0m\n\u001B[1;32m    265\u001B[0m     \u001B[38;5;28mself\u001B[39m\u001B[38;5;241m.\u001B[39m_events\u001B[38;5;241m.\u001B[39mappend(f)\n\u001B[1;32m    266\u001B[0m     \u001B[38;5;66;03m# wake event thread (message content is ignored)\u001B[39;00m\n\u001B[0;32m--> 267\u001B[0m     \u001B[38;5;28;43mself\u001B[39;49m\u001B[38;5;241;43m.\u001B[39;49m\u001B[43m_event_pipe\u001B[49m\u001B[38;5;241;43m.\u001B[39;49m\u001B[43msend\u001B[49m\u001B[43m(\u001B[49m\u001B[38;5;124;43mb\u001B[39;49m\u001B[38;5;124;43m\"\u001B[39;49m\u001B[38;5;124;43m\"\u001B[39;49m\u001B[43m)\u001B[49m\n\u001B[1;32m    268\u001B[0m \u001B[38;5;28;01melse\u001B[39;00m:\n\u001B[1;32m    269\u001B[0m     f()\n",
      "File \u001B[0;32m~/Documents/GitHub/wikipedia-markdown/.venv/lib/python3.10/site-packages/zmq/sugar/socket.py:626\u001B[0m, in \u001B[0;36mSocket.send\u001B[0;34m(self, data, flags, copy, track, routing_id, group)\u001B[0m\n\u001B[1;32m    615\u001B[0m \u001B[38;5;129m@overload\u001B[39m\n\u001B[1;32m    616\u001B[0m \u001B[38;5;28;01mdef\u001B[39;00m\u001B[38;5;250m \u001B[39m\u001B[38;5;21msend\u001B[39m(\n\u001B[1;32m    617\u001B[0m     \u001B[38;5;28mself\u001B[39m,\n\u001B[0;32m   (...)\u001B[0m\n\u001B[1;32m    622\u001B[0m     routing_id: \u001B[38;5;28mint\u001B[39m \u001B[38;5;241m|\u001B[39m \u001B[38;5;28;01mNone\u001B[39;00m \u001B[38;5;241m=\u001B[39m \u001B[38;5;241m.\u001B[39m\u001B[38;5;241m.\u001B[39m\u001B[38;5;241m.\u001B[39m,\n\u001B[1;32m    623\u001B[0m     group: \u001B[38;5;28mstr\u001B[39m \u001B[38;5;241m|\u001B[39m \u001B[38;5;28;01mNone\u001B[39;00m \u001B[38;5;241m=\u001B[39m \u001B[38;5;241m.\u001B[39m\u001B[38;5;241m.\u001B[39m\u001B[38;5;241m.\u001B[39m,\n\u001B[1;32m    624\u001B[0m ) \u001B[38;5;241m-\u001B[39m\u001B[38;5;241m>\u001B[39m zmq\u001B[38;5;241m.\u001B[39mMessageTracker \u001B[38;5;241m|\u001B[39m \u001B[38;5;28;01mNone\u001B[39;00m: \u001B[38;5;241m.\u001B[39m\u001B[38;5;241m.\u001B[39m\u001B[38;5;241m.\u001B[39m\n\u001B[0;32m--> 626\u001B[0m \u001B[38;5;28;01mdef\u001B[39;00m\u001B[38;5;250m \u001B[39m\u001B[38;5;21msend\u001B[39m(\n\u001B[1;32m    627\u001B[0m     \u001B[38;5;28mself\u001B[39m,\n\u001B[1;32m    628\u001B[0m     data: Any,\n\u001B[1;32m    629\u001B[0m     flags: \u001B[38;5;28mint\u001B[39m \u001B[38;5;241m=\u001B[39m \u001B[38;5;241m0\u001B[39m,\n\u001B[1;32m    630\u001B[0m     copy: \u001B[38;5;28mbool\u001B[39m \u001B[38;5;241m=\u001B[39m \u001B[38;5;28;01mTrue\u001B[39;00m,\n\u001B[1;32m    631\u001B[0m     track: \u001B[38;5;28mbool\u001B[39m \u001B[38;5;241m=\u001B[39m \u001B[38;5;28;01mFalse\u001B[39;00m,\n\u001B[1;32m    632\u001B[0m     routing_id: \u001B[38;5;28mint\u001B[39m \u001B[38;5;241m|\u001B[39m \u001B[38;5;28;01mNone\u001B[39;00m \u001B[38;5;241m=\u001B[39m \u001B[38;5;28;01mNone\u001B[39;00m,\n\u001B[1;32m    633\u001B[0m     group: \u001B[38;5;28mstr\u001B[39m \u001B[38;5;241m|\u001B[39m \u001B[38;5;28;01mNone\u001B[39;00m \u001B[38;5;241m=\u001B[39m \u001B[38;5;28;01mNone\u001B[39;00m,\n\u001B[1;32m    634\u001B[0m ) \u001B[38;5;241m-\u001B[39m\u001B[38;5;241m>\u001B[39m zmq\u001B[38;5;241m.\u001B[39mMessageTracker \u001B[38;5;241m|\u001B[39m \u001B[38;5;28;01mNone\u001B[39;00m:\n\u001B[1;32m    635\u001B[0m \u001B[38;5;250m    \u001B[39m\u001B[38;5;124;03m\"\"\"Send a single zmq message frame on this socket.\u001B[39;00m\n\u001B[1;32m    636\u001B[0m \n\u001B[1;32m    637\u001B[0m \u001B[38;5;124;03m    This queues the message to be sent by the IO thread at a later time.\u001B[39;00m\n\u001B[0;32m   (...)\u001B[0m\n\u001B[1;32m    681\u001B[0m \u001B[38;5;124;03m        DRAFT support for routing_id and group arguments.\u001B[39;00m\n\u001B[1;32m    682\u001B[0m \u001B[38;5;124;03m    \"\"\"\u001B[39;00m\n\u001B[1;32m    683\u001B[0m     \u001B[38;5;28;01mif\u001B[39;00m routing_id \u001B[38;5;129;01mis\u001B[39;00m \u001B[38;5;129;01mnot\u001B[39;00m \u001B[38;5;28;01mNone\u001B[39;00m:\n",
      "\u001B[0;31mKeyboardInterrupt\u001B[0m: "
     ]
    }
   ],
   "execution_count": 3
  }
 ],
 "metadata": {
  "kernelspec": {
   "display_name": "Python 3",
   "language": "python",
   "name": "python3"
  },
  "language_info": {
   "codemirror_mode": {
    "name": "ipython",
    "version": 2
   },
   "file_extension": ".py",
   "mimetype": "text/x-python",
   "name": "python",
   "nbconvert_exporter": "python",
   "pygments_lexer": "ipython2",
   "version": "2.7.6"
  }
 },
 "nbformat": 4,
 "nbformat_minor": 5
}
